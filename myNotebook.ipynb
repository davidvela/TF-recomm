{
 "cells": [
  {
   "cell_type": "markdown",
   "metadata": {},
   "source": [
    "\n",
    "# TF-recomm\n"
   ]
  },
  {
   "cell_type": "code",
   "execution_count": 5,
   "metadata": {},
   "outputs": [],
   "source": [
    "import time\n",
    "from collections import deque\n",
    "import socket\n",
    "import sys\n",
    "import numpy as np\n",
    "import tensorflow as tf\n",
    "from six import next\n",
    "from tensorflow.core.framework import summary_pb2\n",
    "from tensorflow.python.tools.inspect_checkpoint import print_tensors_in_checkpoint_file\n",
    "\n",
    "import dataio\n",
    "import ops\n",
    "# tensorboard --logdir=.\\_zfp\\data\\my_graph\n",
    "# tensorboard => http://localhost:6006 \n",
    "# jupyter => http://localhost:8889"
   ]
  },
  {
   "cell_type": "code",
   "execution_count": 2,
   "metadata": {},
   "outputs": [],
   "source": [
    "np.random.seed(13575)\n",
    "\n",
    "BATCH_SIZE = 1000\n",
    "USER_NUM = 6040\n",
    "ITEM_NUM = 3952\n",
    "DIM = 15\n",
    "EPOCH_MAX = 100\n",
    "DEVICE = \"/cpu:0\""
   ]
  },
  {
   "cell_type": "code",
   "execution_count": 4,
   "metadata": {},
   "outputs": [],
   "source": [
    "def clip(x):\n",
    "    return np.clip(x, 1.0, 5.0)\n",
    "\n",
    "\n",
    "def make_scalar_summary(name, val):\n",
    "    return summary_pb2.Summary(value=[summary_pb2.Summary.Value(tag=name, simple_value=val)])\n",
    "\n",
    "def get_data():\n",
    "    df = dataio.read_process(\"./tmp/movielens/ml-1m/ratings.dat\", sep=\"::\")\n",
    "    rows = len(df)\n",
    "    df = df.iloc[np.random.permutation(rows)].reset_index(drop=True)\n",
    "    split_index = int(rows * 0.9)\n",
    "    df_train = df[0:split_index]\n",
    "    df_test = df[split_index:].reset_index(drop=True)\n",
    "    return df_train, df_test, rows\n",
    "\n",
    "def get_movies():\n",
    "    df = dataio.read_movies(\"./tmp/movielens/ml-1m/movies.dat\", sep=\"::\")\n",
    "    rows = len(df)\n",
    "    return df, rows"
   ]
  },
  {
   "cell_type": "markdown",
   "metadata": {},
   "source": [
    "# Data"
   ]
  },
  {
   "cell_type": "code",
   "execution_count": 6,
   "metadata": {},
   "outputs": [
    {
     "name": "stdout",
     "output_type": "stream",
     "text": [
      "Movies file length:\n",
      "3883\n",
      "Toy Story (1995)\n",
      "1\n",
      "Animation|Children's|Comedy\n"
     ]
    }
   ],
   "source": [
    "df_train, df_test, length = get_data()\n",
    "df_movies,rows = get_movies()"
   ]
  },
  {
   "cell_type": "code",
   "execution_count": 7,
   "metadata": {},
   "outputs": [
    {
     "data": {
      "text/html": [
       "<div>\n",
       "<style>\n",
       "    .dataframe thead tr:only-child th {\n",
       "        text-align: right;\n",
       "    }\n",
       "\n",
       "    .dataframe thead th {\n",
       "        text-align: left;\n",
       "    }\n",
       "\n",
       "    .dataframe tbody tr th {\n",
       "        vertical-align: top;\n",
       "    }\n",
       "</style>\n",
       "<table border=\"1\" class=\"dataframe\">\n",
       "  <thead>\n",
       "    <tr style=\"text-align: right;\">\n",
       "      <th></th>\n",
       "      <th>user</th>\n",
       "      <th>item</th>\n",
       "      <th>rate</th>\n",
       "      <th>st</th>\n",
       "    </tr>\n",
       "  </thead>\n",
       "  <tbody>\n",
       "    <tr>\n",
       "      <th>count</th>\n",
       "      <td>900188.000000</td>\n",
       "      <td>900188.000000</td>\n",
       "      <td>900188.000000</td>\n",
       "      <td>9.001880e+05</td>\n",
       "    </tr>\n",
       "    <tr>\n",
       "      <th>mean</th>\n",
       "      <td>3022.600601</td>\n",
       "      <td>1864.635758</td>\n",
       "      <td>3.581352</td>\n",
       "      <td>9.722461e+08</td>\n",
       "    </tr>\n",
       "    <tr>\n",
       "      <th>std</th>\n",
       "      <td>1728.384446</td>\n",
       "      <td>1096.003424</td>\n",
       "      <td>1.117216</td>\n",
       "      <td>1.215377e+07</td>\n",
       "    </tr>\n",
       "    <tr>\n",
       "      <th>min</th>\n",
       "      <td>0.000000</td>\n",
       "      <td>0.000000</td>\n",
       "      <td>1.000000</td>\n",
       "      <td>9.567039e+08</td>\n",
       "    </tr>\n",
       "    <tr>\n",
       "      <th>25%</th>\n",
       "      <td>1504.000000</td>\n",
       "      <td>1029.000000</td>\n",
       "      <td>3.000000</td>\n",
       "      <td>9.653027e+08</td>\n",
       "    </tr>\n",
       "    <tr>\n",
       "      <th>50%</th>\n",
       "      <td>3068.000000</td>\n",
       "      <td>1834.000000</td>\n",
       "      <td>4.000000</td>\n",
       "      <td>9.730215e+08</td>\n",
       "    </tr>\n",
       "    <tr>\n",
       "      <th>75%</th>\n",
       "      <td>4475.000000</td>\n",
       "      <td>2769.000000</td>\n",
       "      <td>4.000000</td>\n",
       "      <td>9.752212e+08</td>\n",
       "    </tr>\n",
       "    <tr>\n",
       "      <th>max</th>\n",
       "      <td>6039.000000</td>\n",
       "      <td>3951.000000</td>\n",
       "      <td>5.000000</td>\n",
       "      <td>1.046455e+09</td>\n",
       "    </tr>\n",
       "  </tbody>\n",
       "</table>\n",
       "</div>"
      ],
      "text/plain": [
       "                user           item           rate            st\n",
       "count  900188.000000  900188.000000  900188.000000  9.001880e+05\n",
       "mean     3022.600601    1864.635758       3.581352  9.722461e+08\n",
       "std      1728.384446    1096.003424       1.117216  1.215377e+07\n",
       "min         0.000000       0.000000       1.000000  9.567039e+08\n",
       "25%      1504.000000    1029.000000       3.000000  9.653027e+08\n",
       "50%      3068.000000    1834.000000       4.000000  9.730215e+08\n",
       "75%      4475.000000    2769.000000       4.000000  9.752212e+08\n",
       "max      6039.000000    3951.000000       5.000000  1.046455e+09"
      ]
     },
     "execution_count": 7,
     "metadata": {},
     "output_type": "execute_result"
    }
   ],
   "source": [
    "df_train.iloc[0:10]\n",
    "df_train.describe()"
   ]
  },
  {
   "cell_type": "code",
   "execution_count": 12,
   "metadata": {},
   "outputs": [
    {
     "name": "stdout",
     "output_type": "stream",
     "text": [
      "Movies file length: 3883\n"
     ]
    }
   ],
   "source": [
    "print (\"Movies file length: {}\" .format(len(df_movies)))"
   ]
  },
  {
   "cell_type": "code",
   "execution_count": 13,
   "metadata": {},
   "outputs": [
    {
     "data": {
      "text/html": [
       "<div>\n",
       "<style>\n",
       "    .dataframe thead tr:only-child th {\n",
       "        text-align: right;\n",
       "    }\n",
       "\n",
       "    .dataframe thead th {\n",
       "        text-align: left;\n",
       "    }\n",
       "\n",
       "    .dataframe tbody tr th {\n",
       "        vertical-align: top;\n",
       "    }\n",
       "</style>\n",
       "<table border=\"1\" class=\"dataframe\">\n",
       "  <thead>\n",
       "    <tr style=\"text-align: right;\">\n",
       "      <th></th>\n",
       "      <th>movie</th>\n",
       "      <th>title</th>\n",
       "      <th>tags</th>\n",
       "    </tr>\n",
       "  </thead>\n",
       "  <tbody>\n",
       "    <tr>\n",
       "      <th>0</th>\n",
       "      <td>1</td>\n",
       "      <td>Toy Story (1995)</td>\n",
       "      <td>Animation|Children's|Comedy</td>\n",
       "    </tr>\n",
       "    <tr>\n",
       "      <th>1</th>\n",
       "      <td>2</td>\n",
       "      <td>Jumanji (1995)</td>\n",
       "      <td>Adventure|Children's|Fantasy</td>\n",
       "    </tr>\n",
       "    <tr>\n",
       "      <th>2</th>\n",
       "      <td>3</td>\n",
       "      <td>Grumpier Old Men (1995)</td>\n",
       "      <td>Comedy|Romance</td>\n",
       "    </tr>\n",
       "    <tr>\n",
       "      <th>3</th>\n",
       "      <td>4</td>\n",
       "      <td>Waiting to Exhale (1995)</td>\n",
       "      <td>Comedy|Drama</td>\n",
       "    </tr>\n",
       "    <tr>\n",
       "      <th>4</th>\n",
       "      <td>5</td>\n",
       "      <td>Father of the Bride Part II (1995)</td>\n",
       "      <td>Comedy</td>\n",
       "    </tr>\n",
       "    <tr>\n",
       "      <th>5</th>\n",
       "      <td>6</td>\n",
       "      <td>Heat (1995)</td>\n",
       "      <td>Action|Crime|Thriller</td>\n",
       "    </tr>\n",
       "    <tr>\n",
       "      <th>6</th>\n",
       "      <td>7</td>\n",
       "      <td>Sabrina (1995)</td>\n",
       "      <td>Comedy|Romance</td>\n",
       "    </tr>\n",
       "    <tr>\n",
       "      <th>7</th>\n",
       "      <td>8</td>\n",
       "      <td>Tom and Huck (1995)</td>\n",
       "      <td>Adventure|Children's</td>\n",
       "    </tr>\n",
       "    <tr>\n",
       "      <th>8</th>\n",
       "      <td>9</td>\n",
       "      <td>Sudden Death (1995)</td>\n",
       "      <td>Action</td>\n",
       "    </tr>\n",
       "    <tr>\n",
       "      <th>9</th>\n",
       "      <td>10</td>\n",
       "      <td>GoldenEye (1995)</td>\n",
       "      <td>Action|Adventure|Thriller</td>\n",
       "    </tr>\n",
       "  </tbody>\n",
       "</table>\n",
       "</div>"
      ],
      "text/plain": [
       "   movie                               title                          tags\n",
       "0      1                    Toy Story (1995)   Animation|Children's|Comedy\n",
       "1      2                      Jumanji (1995)  Adventure|Children's|Fantasy\n",
       "2      3             Grumpier Old Men (1995)                Comedy|Romance\n",
       "3      4            Waiting to Exhale (1995)                  Comedy|Drama\n",
       "4      5  Father of the Bride Part II (1995)                        Comedy\n",
       "5      6                         Heat (1995)         Action|Crime|Thriller\n",
       "6      7                      Sabrina (1995)                Comedy|Romance\n",
       "7      8                 Tom and Huck (1995)          Adventure|Children's\n",
       "8      9                 Sudden Death (1995)                        Action\n",
       "9     10                    GoldenEye (1995)     Action|Adventure|Thriller"
      ]
     },
     "execution_count": 13,
     "metadata": {},
     "output_type": "execute_result"
    }
   ],
   "source": [
    "df_movies.iloc[0:10]"
   ]
  },
  {
   "cell_type": "code",
   "execution_count": 10,
   "metadata": {},
   "outputs": [
    {
     "data": {
      "text/plain": [
       "'Toy Story (1995)'"
      ]
     },
     "execution_count": 10,
     "metadata": {},
     "output_type": "execute_result"
    }
   ],
   "source": [
    "df_movies.iloc[0].title"
   ]
  },
  {
   "cell_type": "code",
   "execution_count": 15,
   "metadata": {},
   "outputs": [],
   "source": [
    "# type(df_movies)"
   ]
  },
  {
   "cell_type": "markdown",
   "metadata": {},
   "source": [
    "# Network + train + test"
   ]
  },
  {
   "cell_type": "code",
   "execution_count": 16,
   "metadata": {},
   "outputs": [],
   "source": [
    "\n",
    "samples_per_batch = len(df_train) // BATCH_SIZE\n",
    "\n",
    "iter_train = dataio.ShuffleIterator([df_train[\"user\"],\n",
    "                                     df_train[\"item\"],\n",
    "                                    df_train[\"rate\"]],\n",
    "                                    batch_size=BATCH_SIZE)\n",
    "\n",
    "iter_test = dataio.OneEpochIterator([df_test[\"user\"],\n",
    "                                     df_test[\"item\"],\n",
    "                                    df_test[\"rate\"]],\n",
    "                                    batch_size=-1)\n",
    "\n",
    "user_batch = tf.placeholder(tf.int32, shape=[None], name=\"id_user\")\n",
    "item_batch = tf.placeholder(tf.int32, shape=[None], name=\"id_item\")\n",
    "rate_batch = tf.placeholder(tf.float32, shape=[None])\n",
    "\n",
    "infer, regularizer = ops.inference_svd(user_batch, item_batch, user_num=USER_NUM, item_num=ITEM_NUM, dim=DIM, device=DEVICE)\n",
    "global_step = tf.contrib.framework.get_or_create_global_step()\n",
    "_, train_op = ops.optimization(infer, regularizer, rate_batch, learning_rate=0.001, reg=0.05, device=DEVICE)\n",
    "#zeros= tf.Variable(tf.zeros([1]),name=\"zeros\")\n"
   ]
  },
  {
   "cell_type": "code",
   "execution_count": 17,
   "metadata": {},
   "outputs": [],
   "source": [
    "\n",
    "def svd(train, test,length,moviefile, trainFl=False):\n",
    "    init_op = tf.global_variables_initializer()\n",
    "    saver=tf.train.Saver()\n",
    "    with tf.Session() as sess:\n",
    "        sess.run(init_op)\n",
    "        if trainFl == True: \n",
    "            summary_writer = tf.summary.FileWriter(logdir=\"./tmp/svd/log\", graph=sess.graph)\n",
    "            print(\"{} {} {} {}\".format(\"epoch\", \"train_error\", \"val_error\", \"elapsed_time\"))\n",
    "            errors = deque(maxlen=samples_per_batch)\n",
    "            start = time.time()\n",
    "            for i in range(EPOCH_MAX * samples_per_batch):\n",
    "                users, items, rates = next(iter_train)\n",
    "                _, pred_batch = sess.run([train_op, infer], feed_dict={user_batch: users,\n",
    "                                                                    item_batch: items,\n",
    "                                                                                                                        rate_batch: rates})\n",
    "                pred_batch = clip(pred_batch)\n",
    "                errors.append(np.power(pred_batch - rates, 2))\n",
    "                if i % samples_per_batch == 0:\n",
    "                    train_err = np.sqrt(np.mean(errors))\n",
    "                    test_err2 = np.array([])\n",
    "                    for users, items, rates in iter_test:\n",
    "                        pred_batch = sess.run(infer, feed_dict={user_batch: users,\n",
    "                                                                item_batch: items})\n",
    "                        pred_batch = clip(pred_batch)\n",
    "                        test_err2 = np.append(test_err2, np.power(pred_batch - rates, 2))\n",
    "                    end = time.time()\n",
    "                    test_err = np.sqrt(np.mean(test_err2))\n",
    "                    print(\"{:3d} {:f} {:f} {:f}(s)\".format(i // samples_per_batch, train_err, test_err,\n",
    "                                                        end - start))\n",
    "                    train_err_summary = make_scalar_summary(\"training_error\", train_err)\n",
    "                    test_err_summary = make_scalar_summary(\"test_error\", test_err)\n",
    "                    summary_writer.add_summary(train_err_summary, i)\n",
    "                    summary_writer.add_summary(test_err_summary, i)\n",
    "                    start = end\n",
    "\n",
    "            #meta_graph_def = tf.train.export_meta_graph(filename='/tmp/tfrecomm.meta')\n",
    "            save_path=saver.save(sess,\"./tmp/\")\n",
    "        else: \n",
    "            print(\"model restored\")\n",
    "            saver.restore(sess, \"./tmp/\")"
   ]
  },
  {
   "cell_type": "code",
   "execution_count": 18,
   "metadata": {},
   "outputs": [
    {
     "name": "stdout",
     "output_type": "stream",
     "text": [
      "model restored\n",
      "INFO:tensorflow:Restoring parameters from ./tmp/\n",
      "Done!\n"
     ]
    }
   ],
   "source": [
    "svd(df_train, df_test, length,df_movies, trainFl=False) \n",
    "print(\"Done!\")"
   ]
  },
  {
   "cell_type": "markdown",
   "metadata": {},
   "source": [
    "# EXECUTION"
   ]
  },
  {
   "cell_type": "code",
   "execution_count": 32,
   "metadata": {},
   "outputs": [],
   "source": [
    "def printMM(topmovies):\n",
    "    print (topmovies)\n",
    "    print(\"TOP Movies\")\n",
    "    for i,r in topmovies:\n",
    "        print(\"{0:5} - {1:1.2f} - {2}\" .format(i,  r, df_movies.iloc[i].title  ))"
   ]
  },
  {
   "cell_type": "code",
   "execution_count": null,
   "metadata": {},
   "outputs": [],
   "source": []
  },
  {
   "cell_type": "code",
   "execution_count": 44,
   "metadata": {},
   "outputs": [],
   "source": [
    "def test(train, test,length,moviefile, data, trainFl=False):\n",
    "    init_op = tf.global_variables_initializer()\n",
    "    #saver=tf.train.Saver()\n",
    "    with tf.Session() as sess:\n",
    "        sess.run(init_op)\n",
    "        #saver.restore(sess, \"./tmp/\")\n",
    "\n",
    "        movies=list(range(len(moviefile)))\n",
    "        #print (movies)\n",
    "        users=[1]\n",
    "        pred_batch = sess.run(infer, feed_dict={user_batch: users,item_batch: movies})\n",
    "        moviesrecomm=list(zip(movies,pred_batch))\n",
    "        smovies=sorted (moviesrecomm,key=lambda x:x[1],reverse=True)\n",
    "\n",
    "        print (\"\\nTop Movies ------------------------------------------------------------\")\n",
    "        topmovies= smovies[0:10]\n",
    "        #print (topmovies)\n",
    "        printMM(topmovies)\n",
    "        \n",
    "        #-----------------------------------------------------------------------------\n",
    "        \n",
    "        print (\"\\n User - data {} ------------------------------------------------------------\\n\" .format(data))\n",
    "        # give number between 1 - 5000\n",
    "        del users[:]\n",
    "        users.append(int(data))\n",
    "        pred_batch = sess.run(infer, feed_dict={user_batch: users,item_batch: movies})\n",
    "        moviesrecomm=list(zip(movies,pred_batch))\n",
    "        smovies=sorted (moviesrecomm,key=lambda x:x[1],reverse=True)\n",
    "        topmovies= smovies[0:10]\n",
    "        printMM(topmovies)\n",
    "        for item in topmovies:\n",
    "            itopmovie=item[0]\n",
    "            recommendedmovie=moviefile[\"title\"][itopmovie]\n",
    "            recommendedtags=moviefile[\"tags\"][itopmovie]\n",
    "    return"
   ]
  },
  {
   "cell_type": "code",
   "execution_count": 45,
   "metadata": {},
   "outputs": [
    {
     "name": "stdout",
     "output_type": "stream",
     "text": [
      "\n",
      "Top Movies ------------------------------------------------------------\n",
      "[(3047, 0.68861681), (1702, 0.68797344), (2616, 0.68785566), (2799, 0.6878379), (2998, 0.68755776), (1495, 0.68749475), (2989, 0.68738717), (1636, 0.68736839), (250, 0.687168), (1370, 0.68716365)]\n",
      "TOP Movies\n",
      " 3047 - 0.69 - Miss Julie (1999)\n",
      " 1702 - 0.69 - Shooting Fish (1997)\n",
      " 2616 - 0.69 - Red Dwarf, The (Le Nain rouge) (1998)\n",
      " 2799 - 0.69 - Fright Night Part II (1989)\n",
      " 2998 - 0.69 - Women on the Verge of a Nervous Breakdown (1988)\n",
      " 1495 - 0.69 - Sprung (1997)\n",
      " 2989 - 0.69 - Ape, The (1940)\n",
      " 1636 - 0.69 - Truman Show, The (1998)\n",
      "  250 - 0.69 - Interview with the Vampire (1994)\n",
      " 1370 - 0.69 - Mars Attacks! (1996)\n",
      "\n",
      " User - data 2 ------------------------------------------------------------\n",
      "\n",
      "[(871, 0.70792109), (1849, 0.70786357), (1670, 0.70767885), (2933, 0.70740688), (1714, 0.70718849), (505, 0.70697927), (91, 0.706738), (3585, 0.70666087), (1710, 0.70661807), (2515, 0.70649517)]\n",
      "TOP Movies\n",
      "  871 - 0.71 - Trigger Effect, The (1996)\n",
      " 1849 - 0.71 - Lethal Weapon 4 (1998)\n",
      " 1670 - 0.71 - Sweet Hereafter, The (1997)\n",
      " 2933 - 0.71 - My Best Fiend (Mein liebster Feind) (1999)\n",
      " 1714 - 0.71 - B. Monkey (1998)\n",
      "  505 - 0.71 - Piano, The (1993)\n",
      "   91 - 0.71 - Vampire in Brooklyn (1995)\n",
      " 3585 - 0.71 - Guns of Navarone, The (1961)\n",
      " 1710 - 0.71 - Letter From Death Row, A (1998)\n",
      " 2515 - 0.71 - Foolish (1999)\n"
     ]
    }
   ],
   "source": [
    "test(df_train, df_test, length,df_movies, data=2, trainFl=False) "
   ]
  },
  {
   "cell_type": "code",
   "execution_count": null,
   "metadata": {},
   "outputs": [],
   "source": []
  },
  {
   "cell_type": "markdown",
   "metadata": {},
   "source": [
    "# TO DO: \n",
    "* Read Users \n",
    "* Compare results for similar users \n",
    "* Show statistics\n",
    "\n",
    "\n",
    "## Users Information\n",
    "- Gender is denoted by a \"M\" for male and \"F\" for female\n",
    "- Age is chosen from the following ranges:\n",
    "\n",
    "\t*  1:  \"Under 18\"\n",
    "\t* 18:  \"18-24\"\n",
    "\t* 25:  \"25-34\"\n",
    "\t* 35:  \"35-44\"\n",
    "\t* 45:  \"45-49\"\n",
    "\t* 50:  \"50-55\"\n",
    "\t* 56:  \"56+\"\n",
    "\n",
    "- Occupation is chosen from the following choices:\n",
    "\t*  0:  \"other\" or not specified\n",
    "\t*  1:  \"academic/educator\"\n",
    "\t*  2:  \"artist\"\n",
    "\t*  3:  \"clerical/admin\"\n",
    "\t*  4:  \"college/grad student\"\n",
    "\t*  5:  \"customer service\"\n",
    "\t*  6:  \"doctor/health care\"\n",
    "\t*  7:  \"executive/managerial\"\n",
    "\t*  8:  \"farmer\"\n",
    "\t*  9:  \"homemaker\"\n",
    "\t* 10:  \"K-12 student\"\n",
    "\t* 11:  \"lawyer\"\n",
    "\t* 12:  \"programmer\"\n",
    "\t* 13:  \"retired\"\n",
    "\t* 14:  \"sales/marketing\"\n",
    "\t* 15:  \"scientist\"\n",
    "\t* 16:  \"self-employed\"\n",
    "\t* 17:  \"technician/engineer\"\n",
    "\t* 18:  \"tradesman/craftsman\"\n",
    "\t* 19:  \"unemployed\"\n",
    "\t* 20:  \"writer\""
   ]
  },
  {
   "cell_type": "code",
   "execution_count": 1,
   "metadata": {},
   "outputs": [],
   "source": [
    "import pandas as pd"
   ]
  },
  {
   "cell_type": "code",
   "execution_count": 9,
   "metadata": {},
   "outputs": [],
   "source": [
    "def get_users():\n",
    "    col_names = [\"userID\", \"gender\", \"age\", \"occupation\", \"zipcode\"]\n",
    "    df = pd.read_csv(\"./tmp/movielens/ml-1m/users.dat\", sep=\"::\", header=None, names=col_names, engine='python')\n",
    "    rows = len(df)\n",
    "    return df, rows\n"
   ]
  },
  {
   "cell_type": "code",
   "execution_count": 10,
   "metadata": {},
   "outputs": [],
   "source": [
    "df_users,rows = get_users()\n"
   ]
  },
  {
   "cell_type": "code",
   "execution_count": 11,
   "metadata": {},
   "outputs": [
    {
     "name": "stdout",
     "output_type": "stream",
     "text": [
      "6040\n"
     ]
    },
    {
     "data": {
      "text/html": [
       "<div>\n",
       "<style>\n",
       "    .dataframe thead tr:only-child th {\n",
       "        text-align: right;\n",
       "    }\n",
       "\n",
       "    .dataframe thead th {\n",
       "        text-align: left;\n",
       "    }\n",
       "\n",
       "    .dataframe tbody tr th {\n",
       "        vertical-align: top;\n",
       "    }\n",
       "</style>\n",
       "<table border=\"1\" class=\"dataframe\">\n",
       "  <thead>\n",
       "    <tr style=\"text-align: right;\">\n",
       "      <th></th>\n",
       "      <th>userID</th>\n",
       "      <th>age</th>\n",
       "      <th>occupation</th>\n",
       "    </tr>\n",
       "  </thead>\n",
       "  <tbody>\n",
       "    <tr>\n",
       "      <th>count</th>\n",
       "      <td>6040.000000</td>\n",
       "      <td>6040.000000</td>\n",
       "      <td>6040.000000</td>\n",
       "    </tr>\n",
       "    <tr>\n",
       "      <th>mean</th>\n",
       "      <td>3020.500000</td>\n",
       "      <td>30.639238</td>\n",
       "      <td>8.146854</td>\n",
       "    </tr>\n",
       "    <tr>\n",
       "      <th>std</th>\n",
       "      <td>1743.742145</td>\n",
       "      <td>12.895962</td>\n",
       "      <td>6.329511</td>\n",
       "    </tr>\n",
       "    <tr>\n",
       "      <th>min</th>\n",
       "      <td>1.000000</td>\n",
       "      <td>1.000000</td>\n",
       "      <td>0.000000</td>\n",
       "    </tr>\n",
       "    <tr>\n",
       "      <th>25%</th>\n",
       "      <td>1510.750000</td>\n",
       "      <td>25.000000</td>\n",
       "      <td>3.000000</td>\n",
       "    </tr>\n",
       "    <tr>\n",
       "      <th>50%</th>\n",
       "      <td>3020.500000</td>\n",
       "      <td>25.000000</td>\n",
       "      <td>7.000000</td>\n",
       "    </tr>\n",
       "    <tr>\n",
       "      <th>75%</th>\n",
       "      <td>4530.250000</td>\n",
       "      <td>35.000000</td>\n",
       "      <td>14.000000</td>\n",
       "    </tr>\n",
       "    <tr>\n",
       "      <th>max</th>\n",
       "      <td>6040.000000</td>\n",
       "      <td>56.000000</td>\n",
       "      <td>20.000000</td>\n",
       "    </tr>\n",
       "  </tbody>\n",
       "</table>\n",
       "</div>"
      ],
      "text/plain": [
       "            userID          age   occupation\n",
       "count  6040.000000  6040.000000  6040.000000\n",
       "mean   3020.500000    30.639238     8.146854\n",
       "std    1743.742145    12.895962     6.329511\n",
       "min       1.000000     1.000000     0.000000\n",
       "25%    1510.750000    25.000000     3.000000\n",
       "50%    3020.500000    25.000000     7.000000\n",
       "75%    4530.250000    35.000000    14.000000\n",
       "max    6040.000000    56.000000    20.000000"
      ]
     },
     "execution_count": 11,
     "metadata": {},
     "output_type": "execute_result"
    }
   ],
   "source": [
    "print(len(df_users))\n",
    "df_users.describe()"
   ]
  },
  {
   "cell_type": "code",
   "execution_count": 12,
   "metadata": {},
   "outputs": [
    {
     "data": {
      "text/html": [
       "<div>\n",
       "<style>\n",
       "    .dataframe thead tr:only-child th {\n",
       "        text-align: right;\n",
       "    }\n",
       "\n",
       "    .dataframe thead th {\n",
       "        text-align: left;\n",
       "    }\n",
       "\n",
       "    .dataframe tbody tr th {\n",
       "        vertical-align: top;\n",
       "    }\n",
       "</style>\n",
       "<table border=\"1\" class=\"dataframe\">\n",
       "  <thead>\n",
       "    <tr style=\"text-align: right;\">\n",
       "      <th></th>\n",
       "      <th>userID</th>\n",
       "      <th>gender</th>\n",
       "      <th>age</th>\n",
       "      <th>occupation</th>\n",
       "      <th>zipcode</th>\n",
       "    </tr>\n",
       "  </thead>\n",
       "  <tbody>\n",
       "    <tr>\n",
       "      <th>0</th>\n",
       "      <td>1</td>\n",
       "      <td>F</td>\n",
       "      <td>1</td>\n",
       "      <td>10</td>\n",
       "      <td>48067</td>\n",
       "    </tr>\n",
       "    <tr>\n",
       "      <th>1</th>\n",
       "      <td>2</td>\n",
       "      <td>M</td>\n",
       "      <td>56</td>\n",
       "      <td>16</td>\n",
       "      <td>70072</td>\n",
       "    </tr>\n",
       "    <tr>\n",
       "      <th>2</th>\n",
       "      <td>3</td>\n",
       "      <td>M</td>\n",
       "      <td>25</td>\n",
       "      <td>15</td>\n",
       "      <td>55117</td>\n",
       "    </tr>\n",
       "    <tr>\n",
       "      <th>3</th>\n",
       "      <td>4</td>\n",
       "      <td>M</td>\n",
       "      <td>45</td>\n",
       "      <td>7</td>\n",
       "      <td>02460</td>\n",
       "    </tr>\n",
       "    <tr>\n",
       "      <th>4</th>\n",
       "      <td>5</td>\n",
       "      <td>M</td>\n",
       "      <td>25</td>\n",
       "      <td>20</td>\n",
       "      <td>55455</td>\n",
       "    </tr>\n",
       "    <tr>\n",
       "      <th>5</th>\n",
       "      <td>6</td>\n",
       "      <td>F</td>\n",
       "      <td>50</td>\n",
       "      <td>9</td>\n",
       "      <td>55117</td>\n",
       "    </tr>\n",
       "    <tr>\n",
       "      <th>6</th>\n",
       "      <td>7</td>\n",
       "      <td>M</td>\n",
       "      <td>35</td>\n",
       "      <td>1</td>\n",
       "      <td>06810</td>\n",
       "    </tr>\n",
       "    <tr>\n",
       "      <th>7</th>\n",
       "      <td>8</td>\n",
       "      <td>M</td>\n",
       "      <td>25</td>\n",
       "      <td>12</td>\n",
       "      <td>11413</td>\n",
       "    </tr>\n",
       "    <tr>\n",
       "      <th>8</th>\n",
       "      <td>9</td>\n",
       "      <td>M</td>\n",
       "      <td>25</td>\n",
       "      <td>17</td>\n",
       "      <td>61614</td>\n",
       "    </tr>\n",
       "    <tr>\n",
       "      <th>9</th>\n",
       "      <td>10</td>\n",
       "      <td>F</td>\n",
       "      <td>35</td>\n",
       "      <td>1</td>\n",
       "      <td>95370</td>\n",
       "    </tr>\n",
       "  </tbody>\n",
       "</table>\n",
       "</div>"
      ],
      "text/plain": [
       "   userID gender  age  occupation zipcode\n",
       "0       1      F    1          10   48067\n",
       "1       2      M   56          16   70072\n",
       "2       3      M   25          15   55117\n",
       "3       4      M   45           7   02460\n",
       "4       5      M   25          20   55455\n",
       "5       6      F   50           9   55117\n",
       "6       7      M   35           1   06810\n",
       "7       8      M   25          12   11413\n",
       "8       9      M   25          17   61614\n",
       "9      10      F   35           1   95370"
      ]
     },
     "execution_count": 12,
     "metadata": {},
     "output_type": "execute_result"
    }
   ],
   "source": [
    "df_users.iloc[0:10]"
   ]
  },
  {
   "cell_type": "markdown",
   "metadata": {},
   "source": [
    "## FIND similar users \n"
   ]
  },
  {
   "cell_type": "code",
   "execution_count": 26,
   "metadata": {},
   "outputs": [
    {
     "name": "stdout",
     "output_type": "stream",
     "text": [
      "      userID gender  age  occupation zipcode\n",
      "1814    1815      M    1           1   30707\n",
      "2059    2060      M    1           1   48304\n",
      "2852    2853      M    1           1  444555\n"
     ]
    }
   ],
   "source": [
    "def get_users_where(age=\"*\", gender=\"*\", occupation=\"*\", zipcode=\"*\"): \n",
    "    us = df_users\n",
    "    if age != \"*\":\n",
    "        us = us[us[\"age\"]==age]\n",
    "    if gender != \"*\":\n",
    "        us = us[us[\"gender\"]==gender]\n",
    "    if occupation != \"*\":\n",
    "        us = us[us[\"occupation\"]==occupation]\n",
    "    if zipcode != \"*\":\n",
    "        us = us[us[\"zipcode\"]==zipcode]    \n",
    "    return us # return the data \n",
    "#     return len(us) return the length of each selection\n",
    "\n",
    "# print(get_users_where(age=1) )\n",
    "# print(get_users_where(age=1, gender =\"M\") )\n",
    "print(get_users_where(age=1, gender =\"M\", occupation = 1 ) )\n",
    "# print(get_users_where(age=1, gender =\"M\", occupation = 1, zipcode = 48067 ) )\n"
   ]
  },
  {
   "cell_type": "code",
   "execution_count": null,
   "metadata": {},
   "outputs": [],
   "source": []
  },
  {
   "cell_type": "code",
   "execution_count": null,
   "metadata": {},
   "outputs": [],
   "source": []
  },
  {
   "cell_type": "markdown",
   "metadata": {},
   "source": [
    "# Compare results - Show statistics"
   ]
  },
  {
   "cell_type": "code",
   "execution_count": null,
   "metadata": {},
   "outputs": [],
   "source": []
  },
  {
   "cell_type": "code",
   "execution_count": null,
   "metadata": {},
   "outputs": [],
   "source": []
  },
  {
   "cell_type": "code",
   "execution_count": null,
   "metadata": {},
   "outputs": [],
   "source": []
  }
 ],
 "metadata": {
  "kernelspec": {
   "display_name": "Python 3",
   "language": "python",
   "name": "python3"
  },
  "language_info": {
   "codemirror_mode": {
    "name": "ipython",
    "version": 3
   },
   "file_extension": ".py",
   "mimetype": "text/x-python",
   "name": "python",
   "nbconvert_exporter": "python",
   "pygments_lexer": "ipython3",
   "version": "3.5.2"
  }
 },
 "nbformat": 4,
 "nbformat_minor": 2
}
