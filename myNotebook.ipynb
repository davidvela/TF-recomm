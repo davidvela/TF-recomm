{
 "cells": [
  {
   "cell_type": "markdown",
   "metadata": {},
   "source": [
    "\n",
    "# TF-recomm\n"
   ]
  },
  {
   "cell_type": "code",
   "execution_count": 1,
   "metadata": {},
   "outputs": [],
   "source": [
    "import time\n",
    "from collections import deque\n",
    "import socket\n",
    "import sys\n",
    "import numpy as np\n",
    "import tensorflow as tf\n",
    "from six import next\n",
    "from tensorflow.core.framework import summary_pb2\n",
    "from tensorflow.python.tools.inspect_checkpoint import print_tensors_in_checkpoint_file\n",
    "\n",
    "import dataio\n",
    "import ops"
   ]
  },
  {
   "cell_type": "code",
   "execution_count": 2,
   "metadata": {},
   "outputs": [],
   "source": [
    "np.random.seed(13575)\n",
    "\n",
    "BATCH_SIZE = 1000\n",
    "USER_NUM = 6040\n",
    "ITEM_NUM = 3952\n",
    "DIM = 15\n",
    "EPOCH_MAX = 100\n",
    "DEVICE = \"/cpu:0\""
   ]
  },
  {
   "cell_type": "code",
   "execution_count": 3,
   "metadata": {},
   "outputs": [],
   "source": [
    "def clip(x):\n",
    "    return np.clip(x, 1.0, 5.0)\n",
    "\n",
    "\n",
    "def make_scalar_summary(name, val):\n",
    "    return summary_pb2.Summary(value=[summary_pb2.Summary.Value(tag=name, simple_value=val)])\n",
    "\n",
    "def get_data():\n",
    "    df = dataio.read_process(\"./tmp/movielens/ml-1m/ratings.dat\", sep=\"::\")\n",
    "    rows = len(df)\n",
    "    df = df.iloc[np.random.permutation(rows)].reset_index(drop=True)\n",
    "    split_index = int(rows * 0.9)\n",
    "    df_train = df[0:split_index]\n",
    "    df_test = df[split_index:].reset_index(drop=True)\n",
    "    return df_train, df_test, rows\n",
    "\n",
    "def get_movies():\n",
    "    df = dataio.read_movies(\"./tmp/movielens/ml-1m/movies.dat\", sep=\"::\")\n",
    "    rows = len(df)\n",
    "    return df, rows"
   ]
  },
  {
   "cell_type": "markdown",
   "metadata": {},
   "source": [
    "# Data"
   ]
  },
  {
   "cell_type": "code",
   "execution_count": 4,
   "metadata": {},
   "outputs": [
    {
     "name": "stdout",
     "output_type": "stream",
     "text": [
      "Movies file length:\n",
      "3883\n",
      "Toy Story (1995)\n",
      "1\n",
      "Animation|Children's|Comedy\n"
     ]
    }
   ],
   "source": [
    "df_train, df_test, length = get_data()\n",
    "df_movies,rows = get_movies()"
   ]
  },
  {
   "cell_type": "code",
   "execution_count": 23,
   "metadata": {},
   "outputs": [
    {
     "data": {
      "text/html": [
       "<div>\n",
       "<style>\n",
       "    .dataframe thead tr:only-child th {\n",
       "        text-align: right;\n",
       "    }\n",
       "\n",
       "    .dataframe thead th {\n",
       "        text-align: left;\n",
       "    }\n",
       "\n",
       "    .dataframe tbody tr th {\n",
       "        vertical-align: top;\n",
       "    }\n",
       "</style>\n",
       "<table border=\"1\" class=\"dataframe\">\n",
       "  <thead>\n",
       "    <tr style=\"text-align: right;\">\n",
       "      <th></th>\n",
       "      <th>user</th>\n",
       "      <th>item</th>\n",
       "      <th>rate</th>\n",
       "      <th>st</th>\n",
       "    </tr>\n",
       "  </thead>\n",
       "  <tbody>\n",
       "    <tr>\n",
       "      <th>count</th>\n",
       "      <td>900188.000000</td>\n",
       "      <td>900188.000000</td>\n",
       "      <td>900188.000000</td>\n",
       "      <td>9.001880e+05</td>\n",
       "    </tr>\n",
       "    <tr>\n",
       "      <th>mean</th>\n",
       "      <td>3022.600601</td>\n",
       "      <td>1864.635758</td>\n",
       "      <td>3.581352</td>\n",
       "      <td>9.722461e+08</td>\n",
       "    </tr>\n",
       "    <tr>\n",
       "      <th>std</th>\n",
       "      <td>1728.384446</td>\n",
       "      <td>1096.003424</td>\n",
       "      <td>1.117216</td>\n",
       "      <td>1.215377e+07</td>\n",
       "    </tr>\n",
       "    <tr>\n",
       "      <th>min</th>\n",
       "      <td>0.000000</td>\n",
       "      <td>0.000000</td>\n",
       "      <td>1.000000</td>\n",
       "      <td>9.567039e+08</td>\n",
       "    </tr>\n",
       "    <tr>\n",
       "      <th>25%</th>\n",
       "      <td>1504.000000</td>\n",
       "      <td>1029.000000</td>\n",
       "      <td>3.000000</td>\n",
       "      <td>9.653027e+08</td>\n",
       "    </tr>\n",
       "    <tr>\n",
       "      <th>50%</th>\n",
       "      <td>3068.000000</td>\n",
       "      <td>1834.000000</td>\n",
       "      <td>4.000000</td>\n",
       "      <td>9.730215e+08</td>\n",
       "    </tr>\n",
       "    <tr>\n",
       "      <th>75%</th>\n",
       "      <td>4475.000000</td>\n",
       "      <td>2769.000000</td>\n",
       "      <td>4.000000</td>\n",
       "      <td>9.752212e+08</td>\n",
       "    </tr>\n",
       "    <tr>\n",
       "      <th>max</th>\n",
       "      <td>6039.000000</td>\n",
       "      <td>3951.000000</td>\n",
       "      <td>5.000000</td>\n",
       "      <td>1.046455e+09</td>\n",
       "    </tr>\n",
       "  </tbody>\n",
       "</table>\n",
       "</div>"
      ],
      "text/plain": [
       "                user           item           rate            st\n",
       "count  900188.000000  900188.000000  900188.000000  9.001880e+05\n",
       "mean     3022.600601    1864.635758       3.581352  9.722461e+08\n",
       "std      1728.384446    1096.003424       1.117216  1.215377e+07\n",
       "min         0.000000       0.000000       1.000000  9.567039e+08\n",
       "25%      1504.000000    1029.000000       3.000000  9.653027e+08\n",
       "50%      3068.000000    1834.000000       4.000000  9.730215e+08\n",
       "75%      4475.000000    2769.000000       4.000000  9.752212e+08\n",
       "max      6039.000000    3951.000000       5.000000  1.046455e+09"
      ]
     },
     "execution_count": 23,
     "metadata": {},
     "output_type": "execute_result"
    }
   ],
   "source": [
    "df_train.iloc[0:10]\n",
    "df_train.describe()"
   ]
  },
  {
   "cell_type": "code",
   "execution_count": 5,
   "metadata": {},
   "outputs": [
    {
     "name": "stdout",
     "output_type": "stream",
     "text": [
      "Movies file length:\n",
      "3883\n"
     ]
    }
   ],
   "source": [
    "print (\"Movies file length:\")\n",
    "print (len(df_movies))"
   ]
  },
  {
   "cell_type": "code",
   "execution_count": 6,
   "metadata": {},
   "outputs": [
    {
     "data": {
      "text/html": [
       "<div>\n",
       "<style>\n",
       "    .dataframe thead tr:only-child th {\n",
       "        text-align: right;\n",
       "    }\n",
       "\n",
       "    .dataframe thead th {\n",
       "        text-align: left;\n",
       "    }\n",
       "\n",
       "    .dataframe tbody tr th {\n",
       "        vertical-align: top;\n",
       "    }\n",
       "</style>\n",
       "<table border=\"1\" class=\"dataframe\">\n",
       "  <thead>\n",
       "    <tr style=\"text-align: right;\">\n",
       "      <th></th>\n",
       "      <th>movie</th>\n",
       "      <th>title</th>\n",
       "      <th>tags</th>\n",
       "    </tr>\n",
       "  </thead>\n",
       "  <tbody>\n",
       "    <tr>\n",
       "      <th>0</th>\n",
       "      <td>1</td>\n",
       "      <td>Toy Story (1995)</td>\n",
       "      <td>Animation|Children's|Comedy</td>\n",
       "    </tr>\n",
       "    <tr>\n",
       "      <th>1</th>\n",
       "      <td>2</td>\n",
       "      <td>Jumanji (1995)</td>\n",
       "      <td>Adventure|Children's|Fantasy</td>\n",
       "    </tr>\n",
       "    <tr>\n",
       "      <th>2</th>\n",
       "      <td>3</td>\n",
       "      <td>Grumpier Old Men (1995)</td>\n",
       "      <td>Comedy|Romance</td>\n",
       "    </tr>\n",
       "    <tr>\n",
       "      <th>3</th>\n",
       "      <td>4</td>\n",
       "      <td>Waiting to Exhale (1995)</td>\n",
       "      <td>Comedy|Drama</td>\n",
       "    </tr>\n",
       "    <tr>\n",
       "      <th>4</th>\n",
       "      <td>5</td>\n",
       "      <td>Father of the Bride Part II (1995)</td>\n",
       "      <td>Comedy</td>\n",
       "    </tr>\n",
       "    <tr>\n",
       "      <th>5</th>\n",
       "      <td>6</td>\n",
       "      <td>Heat (1995)</td>\n",
       "      <td>Action|Crime|Thriller</td>\n",
       "    </tr>\n",
       "    <tr>\n",
       "      <th>6</th>\n",
       "      <td>7</td>\n",
       "      <td>Sabrina (1995)</td>\n",
       "      <td>Comedy|Romance</td>\n",
       "    </tr>\n",
       "    <tr>\n",
       "      <th>7</th>\n",
       "      <td>8</td>\n",
       "      <td>Tom and Huck (1995)</td>\n",
       "      <td>Adventure|Children's</td>\n",
       "    </tr>\n",
       "    <tr>\n",
       "      <th>8</th>\n",
       "      <td>9</td>\n",
       "      <td>Sudden Death (1995)</td>\n",
       "      <td>Action</td>\n",
       "    </tr>\n",
       "    <tr>\n",
       "      <th>9</th>\n",
       "      <td>10</td>\n",
       "      <td>GoldenEye (1995)</td>\n",
       "      <td>Action|Adventure|Thriller</td>\n",
       "    </tr>\n",
       "  </tbody>\n",
       "</table>\n",
       "</div>"
      ],
      "text/plain": [
       "   movie                               title                          tags\n",
       "0      1                    Toy Story (1995)   Animation|Children's|Comedy\n",
       "1      2                      Jumanji (1995)  Adventure|Children's|Fantasy\n",
       "2      3             Grumpier Old Men (1995)                Comedy|Romance\n",
       "3      4            Waiting to Exhale (1995)                  Comedy|Drama\n",
       "4      5  Father of the Bride Part II (1995)                        Comedy\n",
       "5      6                         Heat (1995)         Action|Crime|Thriller\n",
       "6      7                      Sabrina (1995)                Comedy|Romance\n",
       "7      8                 Tom and Huck (1995)          Adventure|Children's\n",
       "8      9                 Sudden Death (1995)                        Action\n",
       "9     10                    GoldenEye (1995)     Action|Adventure|Thriller"
      ]
     },
     "execution_count": 6,
     "metadata": {},
     "output_type": "execute_result"
    }
   ],
   "source": [
    "df_movies.iloc[0:10]"
   ]
  },
  {
   "cell_type": "code",
   "execution_count": 7,
   "metadata": {},
   "outputs": [
    {
     "data": {
      "text/plain": [
       "'Toy Story (1995)'"
      ]
     },
     "execution_count": 7,
     "metadata": {},
     "output_type": "execute_result"
    }
   ],
   "source": [
    "df_movies.iloc[0].title"
   ]
  },
  {
   "cell_type": "markdown",
   "metadata": {},
   "source": [
    "# Network + train + test"
   ]
  },
  {
   "cell_type": "code",
   "execution_count": 8,
   "metadata": {},
   "outputs": [],
   "source": [
    "\n",
    "samples_per_batch = len(df_train) // BATCH_SIZE\n",
    "\n",
    "iter_train = dataio.ShuffleIterator([df_train[\"user\"],\n",
    "                                     df_train[\"item\"],\n",
    "                                    df_train[\"rate\"]],\n",
    "                                    batch_size=BATCH_SIZE)\n",
    "\n",
    "iter_test = dataio.OneEpochIterator([df_test[\"user\"],\n",
    "                                     df_test[\"item\"],\n",
    "                                    df_test[\"rate\"]],\n",
    "                                    batch_size=-1)\n",
    "\n",
    "user_batch = tf.placeholder(tf.int32, shape=[None], name=\"id_user\")\n",
    "item_batch = tf.placeholder(tf.int32, shape=[None], name=\"id_item\")\n",
    "rate_batch = tf.placeholder(tf.float32, shape=[None])\n",
    "\n",
    "infer, regularizer = ops.inference_svd(user_batch, item_batch, user_num=USER_NUM, item_num=ITEM_NUM, dim=DIM, device=DEVICE)\n",
    "global_step = tf.contrib.framework.get_or_create_global_step()\n",
    "_, train_op = ops.optimization(infer, regularizer, rate_batch, learning_rate=0.001, reg=0.05, device=DEVICE)\n",
    "#zeros= tf.Variable(tf.zeros([1]),name=\"zeros\")\n"
   ]
  },
  {
   "cell_type": "code",
   "execution_count": 9,
   "metadata": {},
   "outputs": [],
   "source": [
    "\n",
    "def svd(train, test,length,moviefile, trainFl=False):\n",
    "   \n",
    "\n",
    "\n",
    "    init_op = tf.global_variables_initializer()\n",
    "    saver=tf.train.Saver()\n",
    "    with tf.Session() as sess:\n",
    "        sess.run(init_op)\n",
    "        summary_writer = tf.summary.FileWriter(logdir=\"./tmp/svd/log\", graph=sess.graph)\n",
    "        print(\"{} {} {} {}\".format(\"epoch\", \"train_error\", \"val_error\", \"elapsed_time\"))\n",
    "        errors = deque(maxlen=samples_per_batch)\n",
    "        start = time.time()\n",
    "\n",
    "        if trainFl == True: \n",
    "            for i in range(EPOCH_MAX * samples_per_batch):\n",
    "                users, items, rates = next(iter_train)\n",
    "                _, pred_batch = sess.run([train_op, infer], feed_dict={user_batch: users,\n",
    "                                                                    item_batch: items,\n",
    "                                                                                                                        rate_batch: rates})\n",
    "                pred_batch = clip(pred_batch)\n",
    "                errors.append(np.power(pred_batch - rates, 2))\n",
    "                if i % samples_per_batch == 0:\n",
    "                    train_err = np.sqrt(np.mean(errors))\n",
    "                    test_err2 = np.array([])\n",
    "                    for users, items, rates in iter_test:\n",
    "                        pred_batch = sess.run(infer, feed_dict={user_batch: users,\n",
    "                                                                item_batch: items})\n",
    "                        pred_batch = clip(pred_batch)\n",
    "                        test_err2 = np.append(test_err2, np.power(pred_batch - rates, 2))\n",
    "                    end = time.time()\n",
    "                    test_err = np.sqrt(np.mean(test_err2))\n",
    "                    print(\"{:3d} {:f} {:f} {:f}(s)\".format(i // samples_per_batch, train_err, test_err,\n",
    "                                                        end - start))\n",
    "                    train_err_summary = make_scalar_summary(\"training_error\", train_err)\n",
    "                    test_err_summary = make_scalar_summary(\"test_error\", test_err)\n",
    "                    summary_writer.add_summary(train_err_summary, i)\n",
    "                    summary_writer.add_summary(test_err_summary, i)\n",
    "                    start = end\n",
    "\n",
    "            #meta_graph_def = tf.train.export_meta_graph(filename='/tmp/tfrecomm.meta')\n",
    "            save_path=saver.save(sess,\"./tmp/\")\n",
    "        else: \n",
    "            saver.restore(sess, \"./tmp/\")"
   ]
  },
  {
   "cell_type": "code",
   "execution_count": 10,
   "metadata": {},
   "outputs": [
    {
     "name": "stdout",
     "output_type": "stream",
     "text": [
      "epoch train_error val_error elapsed_time\n",
      "INFO:tensorflow:Restoring parameters from ./tmp/\n",
      "Done!\n"
     ]
    }
   ],
   "source": [
    "svd(df_train, df_test, length,df_movies, trainFl=False) \n",
    "print(\"Done!\")"
   ]
  },
  {
   "cell_type": "markdown",
   "metadata": {},
   "source": [
    "# EXECUTION"
   ]
  },
  {
   "cell_type": "code",
   "execution_count": 11,
   "metadata": {},
   "outputs": [],
   "source": [
    "def printMM(topmovies):\n",
    "    print (topmovies)\n",
    "    for i,r in topmovies:\n",
    "        print(\"{0:5} - {1:1.2f} - {2}\" .format(i,  r, df_movies.iloc[i].title  ))"
   ]
  },
  {
   "cell_type": "code",
   "execution_count": 18,
   "metadata": {},
   "outputs": [],
   "source": [
    "def test(train, test,length,moviefile, data, trainFl=False):\n",
    "    init_op = tf.global_variables_initializer()\n",
    "    saver=tf.train.Saver()\n",
    "    with tf.Session() as sess:\n",
    "        sess.run(init_op)\n",
    "        saver.restore(sess, \"./tmp/\")\n",
    "\n",
    "        movies=list(range(len(moviefile)))\n",
    "        #print (movies)\n",
    "        users=[1]\n",
    "        pred_batch = sess.run(infer, feed_dict={user_batch: users,item_batch: movies})\n",
    "        moviesrecomm=list(zip(movies,pred_batch))\n",
    "        smovies=sorted (moviesrecomm,key=lambda x:x[1],reverse=True)\n",
    "\n",
    "        print (\" Top Movies ------------------------------------------------------------\")\n",
    "        topmovies= smovies[0:10]\n",
    "        #print (topmovies)\n",
    "        printMM(topmovies)\n",
    "        \n",
    "        #-----------------------------------------------------------------------------\n",
    "        # give number between 1 - 5000\n",
    "        del users[:]\n",
    "        users.append(int(data))\n",
    "        print (users)\n",
    "        pred_batch = sess.run(infer, feed_dict={user_batch: users,item_batch: movies})\n",
    "        moviesrecomm=list(zip(movies,pred_batch))\n",
    "        smovies=sorted (moviesrecomm,key=lambda x:x[1],reverse=True)\n",
    "        topmovies= smovies[0:10]\n",
    "        printMM(topmovies)\n",
    "        for item in topmovies:\n",
    "            itopmovie=item[0]\n",
    "            recommendedmovie=moviefile[\"title\"][itopmovie]\n",
    "            recommendedtags=moviefile[\"tags\"][itopmovie]\n",
    "    return"
   ]
  },
  {
   "cell_type": "code",
   "execution_count": 21,
   "metadata": {},
   "outputs": [
    {
     "name": "stdout",
     "output_type": "stream",
     "text": [
      "INFO:tensorflow:Restoring parameters from ./tmp/\n",
      " Top Movies ------------------------------------------------------------\n",
      "[(571, 5.6326408), (1871, 4.8334017), (355, 4.8078384), (952, 4.7772546), (36, 4.7685165), (3091, 4.7542076), (526, 4.7319651), (317, 4.7229209), (810, 4.6377292), (213, 4.6228356)]\n",
      "  571 - 5.63 - Little Rascals, The (1994)\n",
      " 1871 - 4.83 - Gentleman's Agreement (1947)\n",
      "  355 - 4.81 - I Like It Like That (1994)\n",
      "  952 - 4.78 - Angel and the Badman (1947)\n",
      "   36 - 4.77 - Across the Sea of Time (1995)\n",
      " 3091 - 4.75 - Magnolia (1999)\n",
      "  526 - 4.73 - Second Best (1994)\n",
      "  317 - 4.72 - Suture (1993)\n",
      "  810 - 4.64 - Crude Oasis, The (1995)\n",
      "  213 - 4.62 - Before Sunrise (1995)\n",
      "[5000]\n",
      "[(2561, 5.8375769), (1116, 5.5035367), (3850, 5.3975534), (556, 5.3632798), (2511, 5.2982941), (1062, 5.2961969), (2062, 5.2393155), (597, 5.2248325), (1163, 5.199657), (754, 5.1572347)]\n",
      " 2561 - 5.84 - Besieged (L' Assedio) (1998)\n",
      " 1116 - 5.50 - Manon of the Spring (Manon des sources) (1986)\n",
      " 3850 - 5.40 - Faraway, So Close (In Weiter Ferne, So Nah!) (1993)\n",
      "  556 - 5.36 - Beans of Egypt, Maine, The (1994)\n",
      " 2511 - 5.30 - Go (1999)\n",
      " 1062 - 5.30 - Bananas (1971)\n",
      " 2062 - 5.24 - Autumn Sonata (Höstsonaten ) (1978)\n",
      "  597 - 5.22 - Wooden Man's Bride, The (Wu Kui) (1994)\n",
      " 1163 - 5.20 - Grifters, The (1990)\n",
      "  754 - 5.16 - Heavy (1995)\n"
     ]
    }
   ],
   "source": [
    "test(df_train, df_test, length,df_movies, 5000, trainFl=False) "
   ]
  },
  {
   "cell_type": "code",
   "execution_count": null,
   "metadata": {},
   "outputs": [],
   "source": []
  },
  {
   "cell_type": "markdown",
   "metadata": {},
   "source": [
    "# TO DO: \n",
    "* Read Users \n",
    "* Compare results for similar users \n",
    "* Show statistics"
   ]
  },
  {
   "cell_type": "code",
   "execution_count": null,
   "metadata": {},
   "outputs": [],
   "source": []
  }
 ],
 "metadata": {
  "kernelspec": {
   "display_name": "Python 3",
   "language": "python",
   "name": "python3"
  },
  "language_info": {
   "codemirror_mode": {
    "name": "ipython",
    "version": 3
   },
   "file_extension": ".py",
   "mimetype": "text/x-python",
   "name": "python",
   "nbconvert_exporter": "python",
   "pygments_lexer": "ipython3",
   "version": "3.5.2"
  }
 },
 "nbformat": 4,
 "nbformat_minor": 2
}
