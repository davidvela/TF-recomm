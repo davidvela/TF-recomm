{
 "cells": [
  {
   "cell_type": "markdown",
   "metadata": {},
   "source": [
    "\n",
    "# TF-recomm\n"
   ]
  },
  {
   "cell_type": "code",
   "execution_count": 1,
   "metadata": {
    "collapsed": true
   },
   "outputs": [],
   "source": [
    "import time\n",
    "from collections import deque\n",
    "import socket\n",
    "import sys\n",
    "import numpy as np\n",
    "import tensorflow as tf\n",
    "from six import next\n",
    "from tensorflow.core.framework import summary_pb2\n",
    "from tensorflow.python.tools.inspect_checkpoint import print_tensors_in_checkpoint_file\n",
    "\n",
    "import dataio\n",
    "import ops\n",
    "# tensorboard --logdir=.\\_zfp\\data\\my_graph\n",
    "# tensorboard => http://localhost:6006 \n",
    "# jupyter => http://localhost:8889"
   ]
  },
  {
   "cell_type": "code",
   "execution_count": 2,
   "metadata": {
    "collapsed": true
   },
   "outputs": [],
   "source": [
    "np.random.seed(13575)\n",
    "\n",
    "BATCH_SIZE = 1000\n",
    "USER_NUM = 6040\n",
    "ITEM_NUM = 3952\n",
    "DIM = 15\n",
    "EPOCH_MAX = 100\n",
    "DEVICE = \"/cpu:0\""
   ]
  },
  {
   "cell_type": "code",
   "execution_count": 3,
   "metadata": {
    "collapsed": true
   },
   "outputs": [],
   "source": [
    "def clip(x):\n",
    "    return np.clip(x, 1.0, 5.0)\n",
    "\n",
    "\n",
    "def make_scalar_summary(name, val):\n",
    "    return summary_pb2.Summary(value=[summary_pb2.Summary.Value(tag=name, simple_value=val)])\n",
    "\n",
    "def get_data():\n",
    "    df = dataio.read_process(\"./tmp/movielens/ml-1m/ratings.dat\", sep=\"::\")\n",
    "    rows = len(df)\n",
    "    df = df.iloc[np.random.permutation(rows)].reset_index(drop=True)\n",
    "    split_index = int(rows * 0.9)\n",
    "    df_train = df[0:split_index]\n",
    "    df_test = df[split_index:].reset_index(drop=True)\n",
    "    return df_train, df_test, rows\n",
    "\n",
    "def get_movies():\n",
    "    df = dataio.read_movies(\"./tmp/movielens/ml-1m/movies.dat\", sep=\"::\")\n",
    "    rows = len(df)\n",
    "    return df, rows"
   ]
  },
  {
   "cell_type": "markdown",
   "metadata": {},
   "source": [
    "# Data"
   ]
  },
  {
   "cell_type": "code",
   "execution_count": 4,
   "metadata": {},
   "outputs": [
    {
     "name": "stdout",
     "output_type": "stream",
     "text": [
      "Movies file length:\n",
      "3883\n",
      "Toy Story (1995)\n",
      "1\n",
      "Animation|Children's|Comedy\n"
     ]
    }
   ],
   "source": [
    "df_train, df_test, length = get_data()\n",
    "df_movies,rows = get_movies()"
   ]
  },
  {
   "cell_type": "code",
   "execution_count": 5,
   "metadata": {},
   "outputs": [
    {
     "name": "stdout",
     "output_type": "stream",
     "text": [
      "   user  item  rate         st\n",
      "0  1893  1692   4.0  974695176\n",
      "1  5947  2312   4.0  957190990\n",
      "2   162   365   2.0  977323187\n",
      "3  5117   456   3.0  962294766\n",
      "4  2029   315   1.0  974929369\n",
      "5  2220  1844   5.0  974603135\n",
      "6  4385  3385   3.0  965172804\n",
      "7  5779   282   4.0  958156569\n",
      "8  3617  3740   2.0  966600773\n",
      "9  3640   584   4.0  966482594\n"
     ]
    },
    {
     "data": {
      "text/html": [
       "<div>\n",
       "<style>\n",
       "    .dataframe thead tr:only-child th {\n",
       "        text-align: right;\n",
       "    }\n",
       "\n",
       "    .dataframe thead th {\n",
       "        text-align: left;\n",
       "    }\n",
       "\n",
       "    .dataframe tbody tr th {\n",
       "        vertical-align: top;\n",
       "    }\n",
       "</style>\n",
       "<table border=\"1\" class=\"dataframe\">\n",
       "  <thead>\n",
       "    <tr style=\"text-align: right;\">\n",
       "      <th></th>\n",
       "      <th>user</th>\n",
       "      <th>item</th>\n",
       "      <th>rate</th>\n",
       "      <th>st</th>\n",
       "    </tr>\n",
       "  </thead>\n",
       "  <tbody>\n",
       "    <tr>\n",
       "      <th>count</th>\n",
       "      <td>900188.000000</td>\n",
       "      <td>900188.000000</td>\n",
       "      <td>900188.000000</td>\n",
       "      <td>9.001880e+05</td>\n",
       "    </tr>\n",
       "    <tr>\n",
       "      <th>mean</th>\n",
       "      <td>3022.600601</td>\n",
       "      <td>1864.635758</td>\n",
       "      <td>3.581352</td>\n",
       "      <td>9.722461e+08</td>\n",
       "    </tr>\n",
       "    <tr>\n",
       "      <th>std</th>\n",
       "      <td>1728.384446</td>\n",
       "      <td>1096.003424</td>\n",
       "      <td>1.117216</td>\n",
       "      <td>1.215377e+07</td>\n",
       "    </tr>\n",
       "    <tr>\n",
       "      <th>min</th>\n",
       "      <td>0.000000</td>\n",
       "      <td>0.000000</td>\n",
       "      <td>1.000000</td>\n",
       "      <td>9.567039e+08</td>\n",
       "    </tr>\n",
       "    <tr>\n",
       "      <th>25%</th>\n",
       "      <td>1504.000000</td>\n",
       "      <td>1029.000000</td>\n",
       "      <td>3.000000</td>\n",
       "      <td>9.653027e+08</td>\n",
       "    </tr>\n",
       "    <tr>\n",
       "      <th>50%</th>\n",
       "      <td>3068.000000</td>\n",
       "      <td>1834.000000</td>\n",
       "      <td>4.000000</td>\n",
       "      <td>9.730215e+08</td>\n",
       "    </tr>\n",
       "    <tr>\n",
       "      <th>75%</th>\n",
       "      <td>4475.000000</td>\n",
       "      <td>2769.000000</td>\n",
       "      <td>4.000000</td>\n",
       "      <td>9.752212e+08</td>\n",
       "    </tr>\n",
       "    <tr>\n",
       "      <th>max</th>\n",
       "      <td>6039.000000</td>\n",
       "      <td>3951.000000</td>\n",
       "      <td>5.000000</td>\n",
       "      <td>1.046455e+09</td>\n",
       "    </tr>\n",
       "  </tbody>\n",
       "</table>\n",
       "</div>"
      ],
      "text/plain": [
       "                user           item           rate            st\n",
       "count  900188.000000  900188.000000  900188.000000  9.001880e+05\n",
       "mean     3022.600601    1864.635758       3.581352  9.722461e+08\n",
       "std      1728.384446    1096.003424       1.117216  1.215377e+07\n",
       "min         0.000000       0.000000       1.000000  9.567039e+08\n",
       "25%      1504.000000    1029.000000       3.000000  9.653027e+08\n",
       "50%      3068.000000    1834.000000       4.000000  9.730215e+08\n",
       "75%      4475.000000    2769.000000       4.000000  9.752212e+08\n",
       "max      6039.000000    3951.000000       5.000000  1.046455e+09"
      ]
     },
     "execution_count": 5,
     "metadata": {},
     "output_type": "execute_result"
    }
   ],
   "source": [
    "print(df_train.iloc[0:10])\n",
    "df_train.describe()"
   ]
  },
  {
   "cell_type": "code",
   "execution_count": 6,
   "metadata": {},
   "outputs": [
    {
     "name": "stdout",
     "output_type": "stream",
     "text": [
      "Movies file length: 3883\n"
     ]
    }
   ],
   "source": [
    "print (\"Movies file length: {}\" .format(len(df_movies)))"
   ]
  },
  {
   "cell_type": "code",
   "execution_count": 7,
   "metadata": {},
   "outputs": [
    {
     "data": {
      "text/html": [
       "<div>\n",
       "<style>\n",
       "    .dataframe thead tr:only-child th {\n",
       "        text-align: right;\n",
       "    }\n",
       "\n",
       "    .dataframe thead th {\n",
       "        text-align: left;\n",
       "    }\n",
       "\n",
       "    .dataframe tbody tr th {\n",
       "        vertical-align: top;\n",
       "    }\n",
       "</style>\n",
       "<table border=\"1\" class=\"dataframe\">\n",
       "  <thead>\n",
       "    <tr style=\"text-align: right;\">\n",
       "      <th></th>\n",
       "      <th>movie</th>\n",
       "      <th>title</th>\n",
       "      <th>tags</th>\n",
       "    </tr>\n",
       "  </thead>\n",
       "  <tbody>\n",
       "    <tr>\n",
       "      <th>0</th>\n",
       "      <td>1</td>\n",
       "      <td>Toy Story (1995)</td>\n",
       "      <td>Animation|Children's|Comedy</td>\n",
       "    </tr>\n",
       "    <tr>\n",
       "      <th>1</th>\n",
       "      <td>2</td>\n",
       "      <td>Jumanji (1995)</td>\n",
       "      <td>Adventure|Children's|Fantasy</td>\n",
       "    </tr>\n",
       "    <tr>\n",
       "      <th>2</th>\n",
       "      <td>3</td>\n",
       "      <td>Grumpier Old Men (1995)</td>\n",
       "      <td>Comedy|Romance</td>\n",
       "    </tr>\n",
       "    <tr>\n",
       "      <th>3</th>\n",
       "      <td>4</td>\n",
       "      <td>Waiting to Exhale (1995)</td>\n",
       "      <td>Comedy|Drama</td>\n",
       "    </tr>\n",
       "    <tr>\n",
       "      <th>4</th>\n",
       "      <td>5</td>\n",
       "      <td>Father of the Bride Part II (1995)</td>\n",
       "      <td>Comedy</td>\n",
       "    </tr>\n",
       "    <tr>\n",
       "      <th>5</th>\n",
       "      <td>6</td>\n",
       "      <td>Heat (1995)</td>\n",
       "      <td>Action|Crime|Thriller</td>\n",
       "    </tr>\n",
       "    <tr>\n",
       "      <th>6</th>\n",
       "      <td>7</td>\n",
       "      <td>Sabrina (1995)</td>\n",
       "      <td>Comedy|Romance</td>\n",
       "    </tr>\n",
       "    <tr>\n",
       "      <th>7</th>\n",
       "      <td>8</td>\n",
       "      <td>Tom and Huck (1995)</td>\n",
       "      <td>Adventure|Children's</td>\n",
       "    </tr>\n",
       "    <tr>\n",
       "      <th>8</th>\n",
       "      <td>9</td>\n",
       "      <td>Sudden Death (1995)</td>\n",
       "      <td>Action</td>\n",
       "    </tr>\n",
       "    <tr>\n",
       "      <th>9</th>\n",
       "      <td>10</td>\n",
       "      <td>GoldenEye (1995)</td>\n",
       "      <td>Action|Adventure|Thriller</td>\n",
       "    </tr>\n",
       "  </tbody>\n",
       "</table>\n",
       "</div>"
      ],
      "text/plain": [
       "   movie                               title                          tags\n",
       "0      1                    Toy Story (1995)   Animation|Children's|Comedy\n",
       "1      2                      Jumanji (1995)  Adventure|Children's|Fantasy\n",
       "2      3             Grumpier Old Men (1995)                Comedy|Romance\n",
       "3      4            Waiting to Exhale (1995)                  Comedy|Drama\n",
       "4      5  Father of the Bride Part II (1995)                        Comedy\n",
       "5      6                         Heat (1995)         Action|Crime|Thriller\n",
       "6      7                      Sabrina (1995)                Comedy|Romance\n",
       "7      8                 Tom and Huck (1995)          Adventure|Children's\n",
       "8      9                 Sudden Death (1995)                        Action\n",
       "9     10                    GoldenEye (1995)     Action|Adventure|Thriller"
      ]
     },
     "execution_count": 7,
     "metadata": {},
     "output_type": "execute_result"
    }
   ],
   "source": [
    "df_movies.iloc[0:10]"
   ]
  },
  {
   "cell_type": "code",
   "execution_count": 8,
   "metadata": {},
   "outputs": [
    {
     "data": {
      "text/plain": [
       "'Toy Story (1995)'"
      ]
     },
     "execution_count": 8,
     "metadata": {},
     "output_type": "execute_result"
    }
   ],
   "source": [
    "df_movies.iloc[0].title"
   ]
  },
  {
   "cell_type": "code",
   "execution_count": 9,
   "metadata": {
    "collapsed": true
   },
   "outputs": [],
   "source": [
    "# type(df_movies)"
   ]
  },
  {
   "cell_type": "markdown",
   "metadata": {},
   "source": [
    "# Network + train + test"
   ]
  },
  {
   "cell_type": "code",
   "execution_count": 10,
   "metadata": {
    "collapsed": true
   },
   "outputs": [],
   "source": [
    "\n",
    "samples_per_batch = len(df_train) // BATCH_SIZE\n",
    "\n",
    "iter_train = dataio.ShuffleIterator([df_train[\"user\"],\n",
    "                                     df_train[\"item\"],\n",
    "                                    df_train[\"rate\"]],\n",
    "                                    batch_size=BATCH_SIZE)\n",
    "\n",
    "iter_test = dataio.OneEpochIterator([df_test[\"user\"],\n",
    "                                     df_test[\"item\"],\n",
    "                                    df_test[\"rate\"]],\n",
    "                                    batch_size=-1)\n",
    "\n",
    "user_batch = tf.placeholder(tf.int32, shape=[None], name=\"id_user\")\n",
    "item_batch = tf.placeholder(tf.int32, shape=[None], name=\"id_item\")\n",
    "rate_batch = tf.placeholder(tf.float32, shape=[None])\n",
    "\n",
    "infer, regularizer = ops.inference_svd(user_batch, item_batch, user_num=USER_NUM, item_num=ITEM_NUM, dim=DIM, device=DEVICE)\n",
    "global_step = tf.contrib.framework.get_or_create_global_step()\n",
    "_, train_op = ops.optimization(infer, regularizer, rate_batch, learning_rate=0.001, reg=0.05, device=DEVICE)\n",
    "#zeros= tf.Variable(tf.zeros([1]),name=\"zeros\")\n"
   ]
  },
  {
   "cell_type": "code",
   "execution_count": 11,
   "metadata": {
    "collapsed": true
   },
   "outputs": [],
   "source": [
    "\n",
    "def svd(train, test,length,moviefile, trainFl=False):\n",
    "    init_op = tf.global_variables_initializer()\n",
    "    saver=tf.train.Saver()\n",
    "    with tf.Session() as sess:\n",
    "        sess.run(init_op)\n",
    "        if trainFl == True: \n",
    "            summary_writer = tf.summary.FileWriter(logdir=\"./tmp/svd/log\", graph=sess.graph)\n",
    "            print(\"{} {} {} {}\".format(\"epoch\", \"train_error\", \"val_error\", \"elapsed_time\"))\n",
    "            errors = deque(maxlen=samples_per_batch)\n",
    "            start = time.time()\n",
    "            for i in range(EPOCH_MAX * samples_per_batch):\n",
    "                users, items, rates = next(iter_train)\n",
    "                _, pred_batch = sess.run([train_op, infer], feed_dict={user_batch: users,\n",
    "                                                                    item_batch: items,\n",
    "                                                                                                                        rate_batch: rates})\n",
    "                pred_batch = clip(pred_batch)\n",
    "                errors.append(np.power(pred_batch - rates, 2))\n",
    "                if i % samples_per_batch == 0:\n",
    "                    train_err = np.sqrt(np.mean(errors))\n",
    "                    test_err2 = np.array([])\n",
    "                    for users, items, rates in iter_test:\n",
    "                        pred_batch = sess.run(infer, feed_dict={user_batch: users,\n",
    "                                                                item_batch: items})\n",
    "                        pred_batch = clip(pred_batch)\n",
    "                        test_err2 = np.append(test_err2, np.power(pred_batch - rates, 2))\n",
    "                    end = time.time()\n",
    "                    test_err = np.sqrt(np.mean(test_err2))\n",
    "                    print(\"{:3d} {:f} {:f} {:f}(s)\".format(i // samples_per_batch, train_err, test_err,\n",
    "                                                        end - start))\n",
    "                    train_err_summary = make_scalar_summary(\"training_error\", train_err)\n",
    "                    test_err_summary = make_scalar_summary(\"test_error\", test_err)\n",
    "                    summary_writer.add_summary(train_err_summary, i)\n",
    "                    summary_writer.add_summary(test_err_summary, i)\n",
    "                    start = end\n",
    "\n",
    "            #meta_graph_def = tf.train.export_meta_graph(filename='/tmp/tfrecomm.meta')\n",
    "            save_path=saver.save(sess,\"./tmp/\")\n",
    "        else: \n",
    "            print(\"model restored\")\n",
    "            saver.restore(sess, \"./tmp/\")"
   ]
  },
  {
   "cell_type": "code",
   "execution_count": 12,
   "metadata": {},
   "outputs": [
    {
     "name": "stdout",
     "output_type": "stream",
     "text": [
      "model restored\n",
      "INFO:tensorflow:Restoring parameters from ./tmp/\n",
      "Done!\n"
     ]
    }
   ],
   "source": [
    "svd(df_train, df_test, length,df_movies, trainFl=False) \n",
    "print(\"Done!\")"
   ]
  },
  {
   "cell_type": "markdown",
   "metadata": {},
   "source": [
    "# EXECUTION"
   ]
  },
  {
   "cell_type": "code",
   "execution_count": 13,
   "metadata": {
    "collapsed": true
   },
   "outputs": [],
   "source": [
    "def printMM(topmovies):\n",
    "    print (topmovies)\n",
    "    print(\"TOP Movies\")\n",
    "    for i,r in topmovies:\n",
    "        print(\"{0:5} - {1:1.2f} - {2}\" .format(i,  r, df_movies.iloc[i].title  ))"
   ]
  },
  {
   "cell_type": "code",
   "execution_count": null,
   "metadata": {
    "collapsed": true
   },
   "outputs": [],
   "source": []
  },
  {
   "cell_type": "code",
   "execution_count": 14,
   "metadata": {
    "collapsed": true
   },
   "outputs": [],
   "source": [
    "def test(train, test,length,moviefile, data, trainFl=False):\n",
    "    init_op = tf.global_variables_initializer()\n",
    "    #saver=tf.train.Saver()\n",
    "    with tf.Session() as sess:\n",
    "        sess.run(init_op)\n",
    "        #saver.restore(sess, \"./tmp/\")\n",
    "\n",
    "        movies=list(range(len(moviefile)))\n",
    "        #print (movies)\n",
    "        users=[1]\n",
    "        pred_batch = sess.run(infer, feed_dict={user_batch: users,item_batch: movies})\n",
    "        moviesrecomm=list(zip(movies,pred_batch))\n",
    "        smovies=sorted (moviesrecomm,key=lambda x:x[1],reverse=True)\n",
    "\n",
    "        print (\"\\nTop Movies ------------------------------------------------------------\")\n",
    "        topmovies= smovies[0:10]\n",
    "        #print (topmovies)\n",
    "        printMM(topmovies)\n",
    "        \n",
    "        #-----------------------------------------------------------------------------\n",
    "        \n",
    "        print (\"\\n User - data {} ------------------------------------------------------------\\n\" .format(data))\n",
    "        # give number between 1 - 5000\n",
    "        del users[:]\n",
    "        users.append(int(data))\n",
    "        pred_batch = sess.run(infer, feed_dict={user_batch: users,item_batch: movies})\n",
    "        moviesrecomm=list(zip(movies,pred_batch))\n",
    "        smovies=sorted (moviesrecomm,key=lambda x:x[1],reverse=True)\n",
    "        topmovies= smovies[0:10]\n",
    "        printMM(topmovies)\n",
    "        for item in topmovies:\n",
    "            itopmovie=item[0]\n",
    "            recommendedmovie=moviefile[\"title\"][itopmovie]\n",
    "            recommendedtags=moviefile[\"tags\"][itopmovie]\n",
    "    return"
   ]
  },
  {
   "cell_type": "code",
   "execution_count": 15,
   "metadata": {},
   "outputs": [
    {
     "name": "stdout",
     "output_type": "stream",
     "text": [
      "\n",
      "Top Movies ------------------------------------------------------------\n",
      "[(797, -1.2590292), (760, -1.2599013), (3051, -1.2599669), (2223, -1.2605978), (3184, -1.2607058), (1121, -1.2607251), (3602, -1.2607558), (1164, -1.2608209), (1599, -1.2608762), (2215, -1.2609057)]\n",
      "TOP Movies\n",
      "  797 - -1.26 - Rendezvous in Paris (Rendez-vous de Paris, Les) (1995)\n",
      "  760 - -1.26 - Costa Brava (1946)\n",
      " 3051 - -1.26 - Distinguished Gentleman, The (1992)\n",
      " 2223 - -1.26 - Overnight Delivery (1996)\n",
      " 3184 - -1.26 - Wayne's World (1992)\n",
      " 1121 - -1.26 - Hustler White (1996)\n",
      " 3602 - -1.26 - Blazing Saddles (1974)\n",
      " 1164 - -1.26 - Hear My Song (1991)\n",
      " 1599 - -1.26 - Devil's Advocate, The (1997)\n",
      " 2215 - -1.26 - Bandit Queen (1994)\n",
      "\n",
      " User - data 2 ------------------------------------------------------------\n",
      "\n",
      "[(3303, -1.2694006), (2585, -1.2696155), (1121, -1.2697175), (2818, -1.269724), (844, -1.2697563), (3009, -1.2698596), (651, -1.269984), (1578, -1.2702227), (2068, -1.2702285), (1071, -1.2702885)]\n",
      "TOP Movies\n",
      " 3303 - -1.27 - Bridge at Remagen, The (1969)\n",
      " 2585 - -1.27 - Wolf Man, The (1941)\n",
      " 1121 - -1.27 - Hustler White (1996)\n",
      " 2818 - -1.27 - Simon Sez (1999)\n",
      "  844 - -1.27 - Every Other Weekend (1990)\n",
      " 3009 - -1.27 - Liberty Heights (1999)\n",
      "  651 - -1.27 - Yankee Zulu (1994)\n",
      " 1578 - -1.27 - Soul Food (1997)\n",
      " 2068 - -1.27 - Charlotte's Web (1973)\n",
      " 1071 - -1.27 - Madame Butterfly (1995)\n"
     ]
    }
   ],
   "source": [
    "test(df_train, df_test, length,df_movies, data=2, trainFl=False) "
   ]
  },
  {
   "cell_type": "code",
   "execution_count": null,
   "metadata": {
    "collapsed": true
   },
   "outputs": [],
   "source": []
  },
  {
   "cell_type": "markdown",
   "metadata": {},
   "source": [
    "# TO DO: \n",
    "* Read Users \n",
    "* Compare results for similar users \n",
    "* Show statistics\n",
    "\n",
    "\n",
    "## Users Information\n",
    "- Gender is denoted by a \"M\" for male and \"F\" for female\n",
    "- Age is chosen from the following ranges:\n",
    "\n",
    "\t*  1:  \"Under 18\"\n",
    "\t* 18:  \"18-24\"\n",
    "\t* 25:  \"25-34\"\n",
    "\t* 35:  \"35-44\"\n",
    "\t* 45:  \"45-49\"\n",
    "\t* 50:  \"50-55\"\n",
    "\t* 56:  \"56+\"\n",
    "\n",
    "- Occupation is chosen from the following choices:\n",
    "\t*  0:  \"other\" or not specified\n",
    "\t*  1:  \"academic/educator\"\n",
    "\t*  2:  \"artist\"\n",
    "\t*  3:  \"clerical/admin\"\n",
    "\t*  4:  \"college/grad student\"\n",
    "\t*  5:  \"customer service\"\n",
    "\t*  6:  \"doctor/health care\"\n",
    "\t*  7:  \"executive/managerial\"\n",
    "\t*  8:  \"farmer\"\n",
    "\t*  9:  \"homemaker\"\n",
    "\t* 10:  \"K-12 student\"\n",
    "\t* 11:  \"lawyer\"\n",
    "\t* 12:  \"programmer\"\n",
    "\t* 13:  \"retired\"\n",
    "\t* 14:  \"sales/marketing\"\n",
    "\t* 15:  \"scientist\"\n",
    "\t* 16:  \"self-employed\"\n",
    "\t* 17:  \"technician/engineer\"\n",
    "\t* 18:  \"tradesman/craftsman\"\n",
    "\t* 19:  \"unemployed\"\n",
    "\t* 20:  \"writer\""
   ]
  },
  {
   "cell_type": "code",
   "execution_count": 16,
   "metadata": {
    "collapsed": true
   },
   "outputs": [],
   "source": [
    "import pandas as pd"
   ]
  },
  {
   "cell_type": "code",
   "execution_count": 17,
   "metadata": {
    "collapsed": true
   },
   "outputs": [],
   "source": [
    "def get_users():\n",
    "    col_names = [\"userID\", \"gender\", \"age\", \"occupation\", \"zipcode\"]\n",
    "    df = pd.read_csv(\"./tmp/movielens/ml-1m/users.dat\", sep=\"::\", header=None, names=col_names, engine='python')\n",
    "    rows = len(df)\n",
    "    return df, rows\n"
   ]
  },
  {
   "cell_type": "code",
   "execution_count": 18,
   "metadata": {
    "collapsed": true
   },
   "outputs": [],
   "source": [
    "df_users,rows = get_users()\n"
   ]
  },
  {
   "cell_type": "code",
   "execution_count": 19,
   "metadata": {},
   "outputs": [
    {
     "name": "stdout",
     "output_type": "stream",
     "text": [
      "6040\n"
     ]
    },
    {
     "data": {
      "text/html": [
       "<div>\n",
       "<style>\n",
       "    .dataframe thead tr:only-child th {\n",
       "        text-align: right;\n",
       "    }\n",
       "\n",
       "    .dataframe thead th {\n",
       "        text-align: left;\n",
       "    }\n",
       "\n",
       "    .dataframe tbody tr th {\n",
       "        vertical-align: top;\n",
       "    }\n",
       "</style>\n",
       "<table border=\"1\" class=\"dataframe\">\n",
       "  <thead>\n",
       "    <tr style=\"text-align: right;\">\n",
       "      <th></th>\n",
       "      <th>userID</th>\n",
       "      <th>age</th>\n",
       "      <th>occupation</th>\n",
       "    </tr>\n",
       "  </thead>\n",
       "  <tbody>\n",
       "    <tr>\n",
       "      <th>count</th>\n",
       "      <td>6040.000000</td>\n",
       "      <td>6040.000000</td>\n",
       "      <td>6040.000000</td>\n",
       "    </tr>\n",
       "    <tr>\n",
       "      <th>mean</th>\n",
       "      <td>3020.500000</td>\n",
       "      <td>30.639238</td>\n",
       "      <td>8.146854</td>\n",
       "    </tr>\n",
       "    <tr>\n",
       "      <th>std</th>\n",
       "      <td>1743.742145</td>\n",
       "      <td>12.895962</td>\n",
       "      <td>6.329511</td>\n",
       "    </tr>\n",
       "    <tr>\n",
       "      <th>min</th>\n",
       "      <td>1.000000</td>\n",
       "      <td>1.000000</td>\n",
       "      <td>0.000000</td>\n",
       "    </tr>\n",
       "    <tr>\n",
       "      <th>25%</th>\n",
       "      <td>1510.750000</td>\n",
       "      <td>25.000000</td>\n",
       "      <td>3.000000</td>\n",
       "    </tr>\n",
       "    <tr>\n",
       "      <th>50%</th>\n",
       "      <td>3020.500000</td>\n",
       "      <td>25.000000</td>\n",
       "      <td>7.000000</td>\n",
       "    </tr>\n",
       "    <tr>\n",
       "      <th>75%</th>\n",
       "      <td>4530.250000</td>\n",
       "      <td>35.000000</td>\n",
       "      <td>14.000000</td>\n",
       "    </tr>\n",
       "    <tr>\n",
       "      <th>max</th>\n",
       "      <td>6040.000000</td>\n",
       "      <td>56.000000</td>\n",
       "      <td>20.000000</td>\n",
       "    </tr>\n",
       "  </tbody>\n",
       "</table>\n",
       "</div>"
      ],
      "text/plain": [
       "            userID          age   occupation\n",
       "count  6040.000000  6040.000000  6040.000000\n",
       "mean   3020.500000    30.639238     8.146854\n",
       "std    1743.742145    12.895962     6.329511\n",
       "min       1.000000     1.000000     0.000000\n",
       "25%    1510.750000    25.000000     3.000000\n",
       "50%    3020.500000    25.000000     7.000000\n",
       "75%    4530.250000    35.000000    14.000000\n",
       "max    6040.000000    56.000000    20.000000"
      ]
     },
     "execution_count": 19,
     "metadata": {},
     "output_type": "execute_result"
    }
   ],
   "source": [
    "print(len(df_users))\n",
    "df_users.describe()"
   ]
  },
  {
   "cell_type": "code",
   "execution_count": 20,
   "metadata": {},
   "outputs": [
    {
     "data": {
      "text/html": [
       "<div>\n",
       "<style>\n",
       "    .dataframe thead tr:only-child th {\n",
       "        text-align: right;\n",
       "    }\n",
       "\n",
       "    .dataframe thead th {\n",
       "        text-align: left;\n",
       "    }\n",
       "\n",
       "    .dataframe tbody tr th {\n",
       "        vertical-align: top;\n",
       "    }\n",
       "</style>\n",
       "<table border=\"1\" class=\"dataframe\">\n",
       "  <thead>\n",
       "    <tr style=\"text-align: right;\">\n",
       "      <th></th>\n",
       "      <th>userID</th>\n",
       "      <th>gender</th>\n",
       "      <th>age</th>\n",
       "      <th>occupation</th>\n",
       "      <th>zipcode</th>\n",
       "    </tr>\n",
       "  </thead>\n",
       "  <tbody>\n",
       "    <tr>\n",
       "      <th>0</th>\n",
       "      <td>1</td>\n",
       "      <td>F</td>\n",
       "      <td>1</td>\n",
       "      <td>10</td>\n",
       "      <td>48067</td>\n",
       "    </tr>\n",
       "    <tr>\n",
       "      <th>1</th>\n",
       "      <td>2</td>\n",
       "      <td>M</td>\n",
       "      <td>56</td>\n",
       "      <td>16</td>\n",
       "      <td>70072</td>\n",
       "    </tr>\n",
       "    <tr>\n",
       "      <th>2</th>\n",
       "      <td>3</td>\n",
       "      <td>M</td>\n",
       "      <td>25</td>\n",
       "      <td>15</td>\n",
       "      <td>55117</td>\n",
       "    </tr>\n",
       "    <tr>\n",
       "      <th>3</th>\n",
       "      <td>4</td>\n",
       "      <td>M</td>\n",
       "      <td>45</td>\n",
       "      <td>7</td>\n",
       "      <td>02460</td>\n",
       "    </tr>\n",
       "    <tr>\n",
       "      <th>4</th>\n",
       "      <td>5</td>\n",
       "      <td>M</td>\n",
       "      <td>25</td>\n",
       "      <td>20</td>\n",
       "      <td>55455</td>\n",
       "    </tr>\n",
       "    <tr>\n",
       "      <th>5</th>\n",
       "      <td>6</td>\n",
       "      <td>F</td>\n",
       "      <td>50</td>\n",
       "      <td>9</td>\n",
       "      <td>55117</td>\n",
       "    </tr>\n",
       "    <tr>\n",
       "      <th>6</th>\n",
       "      <td>7</td>\n",
       "      <td>M</td>\n",
       "      <td>35</td>\n",
       "      <td>1</td>\n",
       "      <td>06810</td>\n",
       "    </tr>\n",
       "    <tr>\n",
       "      <th>7</th>\n",
       "      <td>8</td>\n",
       "      <td>M</td>\n",
       "      <td>25</td>\n",
       "      <td>12</td>\n",
       "      <td>11413</td>\n",
       "    </tr>\n",
       "    <tr>\n",
       "      <th>8</th>\n",
       "      <td>9</td>\n",
       "      <td>M</td>\n",
       "      <td>25</td>\n",
       "      <td>17</td>\n",
       "      <td>61614</td>\n",
       "    </tr>\n",
       "    <tr>\n",
       "      <th>9</th>\n",
       "      <td>10</td>\n",
       "      <td>F</td>\n",
       "      <td>35</td>\n",
       "      <td>1</td>\n",
       "      <td>95370</td>\n",
       "    </tr>\n",
       "  </tbody>\n",
       "</table>\n",
       "</div>"
      ],
      "text/plain": [
       "   userID gender  age  occupation zipcode\n",
       "0       1      F    1          10   48067\n",
       "1       2      M   56          16   70072\n",
       "2       3      M   25          15   55117\n",
       "3       4      M   45           7   02460\n",
       "4       5      M   25          20   55455\n",
       "5       6      F   50           9   55117\n",
       "6       7      M   35           1   06810\n",
       "7       8      M   25          12   11413\n",
       "8       9      M   25          17   61614\n",
       "9      10      F   35           1   95370"
      ]
     },
     "execution_count": 20,
     "metadata": {},
     "output_type": "execute_result"
    }
   ],
   "source": [
    "df_users.iloc[0:10]"
   ]
  },
  {
   "cell_type": "markdown",
   "metadata": {},
   "source": [
    "## FIND similar users \n"
   ]
  },
  {
   "cell_type": "code",
   "execution_count": 21,
   "metadata": {},
   "outputs": [
    {
     "name": "stdout",
     "output_type": "stream",
     "text": [
      "      userID gender  age  occupation zipcode\n",
      "1814    1815      M    1           1   30707\n",
      "2059    2060      M    1           1   48304\n",
      "2852    2853      M    1           1  444555\n"
     ]
    }
   ],
   "source": [
    "def get_users_where(age=\"*\", gender=\"*\", occupation=\"*\", zipcode=\"*\"): \n",
    "    us = df_users\n",
    "    if age != \"*\":\n",
    "        us = us[us[\"age\"]==age]\n",
    "    if gender != \"*\":\n",
    "        us = us[us[\"gender\"]==gender]\n",
    "    if occupation != \"*\":\n",
    "        us = us[us[\"occupation\"]==occupation]\n",
    "    if zipcode != \"*\":\n",
    "        us = us[us[\"zipcode\"]==zipcode]    \n",
    "    return us # return the data \n",
    "#     return len(us) return the length of each selection\n",
    "\n",
    "# print(get_users_where(age=1) )\n",
    "# print(get_users_where(age=1, gender =\"M\") )\n",
    "print(get_users_where(age=1, gender =\"M\", occupation = 1 ) )\n",
    "# print(get_users_where(age=1, gender =\"M\", occupation = 1, zipcode = 48067 ) )\n"
   ]
  },
  {
   "cell_type": "code",
   "execution_count": null,
   "metadata": {
    "collapsed": true
   },
   "outputs": [],
   "source": []
  },
  {
   "cell_type": "code",
   "execution_count": null,
   "metadata": {
    "collapsed": true
   },
   "outputs": [],
   "source": []
  },
  {
   "cell_type": "markdown",
   "metadata": {},
   "source": [
    "# Compare results - Show statistics"
   ]
  },
  {
   "cell_type": "code",
   "execution_count": 22,
   "metadata": {},
   "outputs": [
    {
     "name": "stdout",
     "output_type": "stream",
     "text": [
      "\n",
      "Top Movies ------------------------------------------------------------\n",
      "1815\n",
      "[(3154, -1.2711122), (542, -1.2713907), (1784, -1.2718444), (2258, -1.2719319), (1000, -1.2721136), (3471, -1.2722907), (2529, -1.2724241), (3009, -1.2725339), (1840, -1.2727556), (1460, -1.2728013)]\n",
      "TOP Movies\n",
      " 3154 - -1.27 - Zed & Two Noughts, A (1985)\n",
      "  542 - -1.27 - Super Mario Bros. (1993)\n",
      " 1784 - -1.27 - Alan Smithee Film: Burn Hollywood Burn, An (1997)\n",
      " 2258 - -1.27 - Tales from the Darkside: The Movie (1990)\n",
      " 1000 - -1.27 - Parent Trap, The (1961)\n",
      " 3471 - -1.27 - Passion of Mind (1999)\n",
      " 2529 - -1.27 - Pushing Tin (1999)\n",
      " 3009 - -1.27 - Liberty Heights (1999)\n",
      " 1840 - -1.27 - X-Files: Fight the Future, The (1998)\n",
      " 1460 - -1.27 - B*A*P*S (1997)\n",
      "2060\n",
      "[(3070, -1.3068042), (3471, -1.3079368), (1512, -1.3079507), (3552, -1.3081417), (2711, -1.3082843), (408, -1.3083031), (734, -1.308417), (542, -1.3084476), (847, -1.3085543), (472, -1.3087789)]\n",
      "TOP Movies\n",
      " 3070 - -1.31 - Tarzan the Fearless (1933)\n",
      " 3471 - -1.31 - Passion of Mind (1999)\n",
      " 1512 - -1.31 - Buddy (1997)\n",
      " 3552 - -1.31 - Possession (1981)\n",
      " 2711 - -1.31 - Raven, The (1963)\n",
      "  408 - -1.31 - Age of Innocence, The (1993)\n",
      "  734 - -1.31 - Brothers in Trouble (1995)\n",
      "  542 - -1.31 - Super Mario Bros. (1993)\n",
      "  847 - -1.31 - Godfather, The (1972)\n",
      "  472 - -1.31 - Inkwell, The (1994)\n",
      "2853\n",
      "[(2760, -1.3031322), (2421, -1.303287), (664, -1.3033577), (1385, -1.3037655), (3722, -1.3037702), (2824, -1.3038847), (3672, -1.3039185), (2062, -1.3039674), (1328, -1.3041812), (1156, -1.3042867)]\n",
      "TOP Movies\n",
      " 2760 - -1.30 - Muse, The (1999)\n",
      " 2421 - -1.30 - Payback (1999)\n",
      "  664 - -1.30 - World of Apu, The (Apur Sansar) (1959)\n",
      " 1385 - -1.30 - Last of the Mohicans, The (1992)\n",
      " 3722 - -1.30 - Footloose (1984)\n",
      " 2824 - -1.30 - Plunkett & MaCleane (1999)\n",
      " 3672 - -1.30 - Badlands (1973)\n",
      " 2062 - -1.30 - Autumn Sonata (Höstsonaten ) (1978)\n",
      " 1328 - -1.30 - Nosferatu a Venezia (1986)\n",
      " 1156 - -1.30 - Cinema Paradiso (1988)\n"
     ]
    }
   ],
   "source": [
    "init_op = tf.global_variables_initializer()\n",
    "with tf.Session() as sess:\n",
    "    sess.run(init_op)\n",
    "    #saver.restore(sess, \"./tmp/\")\n",
    "    movies=list(range(len(df_movies)))\n",
    "\n",
    "    user_IDEN = get_users_where(age=1, gender =\"M\", occupation = 1 )\n",
    "    print (\"\\nTop Movies ------------------------------------------------------------\")\n",
    "\n",
    "    for i in range(len(user_IDEN)):\n",
    "        userID = user_IDEN.iloc[i][\"userID\"]\n",
    "        print(userID)\n",
    "        users=[userID]\n",
    "        pred_batch = sess.run(infer, feed_dict={user_batch: users,item_batch: movies})\n",
    "        moviesrecomm=list(zip(movies,pred_batch))\n",
    "        smovies=sorted (moviesrecomm,key=lambda x:x[1],reverse=True)\n",
    "        topmovies= smovies[0:10]\n",
    "        printMM(topmovies)"
   ]
  },
  {
   "cell_type": "markdown",
   "metadata": {
    "collapsed": true
   },
   "source": [
    "# movies watched by users... "
   ]
  },
  {
   "cell_type": "code",
   "execution_count": 34,
   "metadata": {},
   "outputs": [
    {
     "name": "stdout",
     "output_type": "stream",
     "text": [
      "id: 1, G: F, age Under 18, oc: 10, zc: 48067\n"
     ]
    },
    {
     "data": {
      "text/plain": [
       "1"
      ]
     },
     "execution_count": 34,
     "metadata": {},
     "output_type": "execute_result"
    }
   ],
   "source": [
    "def getAg(age):\n",
    "    if age == 1:    return \"Under 18\"\n",
    "    elif age == 18: return \"18 - 24 \"\n",
    "    elif age == 25: return \"25 - 34 \"\n",
    "    elif age == 35: return \"35 - 44 \"\n",
    "    elif age == 45: return \"45 - 49 \"\n",
    "    elif age == 50: return \"50 - 55 \"\n",
    "    elif age == 56: return \"Above 56\"\n",
    "\n",
    "def getOc(occ):\n",
    "    if occ == 0:    return \"other\"\n",
    "    elif occ == 1:  return \"academic/educator\"\n",
    "    elif occ == 2:  return \"artist\"\n",
    "    elif occ == 3:  return \"clerical/admin\"\n",
    "    elif occ == 4:  return \"college/grad student\"\n",
    "    elif occ == 5:  return \"customer service\"\n",
    "    elif occ == 6:  return \"doctor/health care\"\n",
    "    elif occ == 7:  return \"executive/managerial\"\n",
    "    elif occ == 8:  return \"farmer\"\n",
    "    elif occ == 9:  return \"homemaker\"\n",
    "    elif occ == 10: return \"K-12 student\"\n",
    "    elif occ == 11: return \"lawyer\"\n",
    "    elif occ == 12: \"programmer\"\n",
    "    elif occ == 13: \"retired\"\n",
    "    elif occ == 14: \"sales/marketing\"\n",
    "    elif occ == 15: \"scientist\"\n",
    "    elif occ == 16: \"self-employed\"\n",
    "    elif occ == 17: \"technician/engineer\"\n",
    "    elif occ == 18: \"tradesman/craftsman\"\n",
    "    elif occ == 19: \"unemployed\"\n",
    "    elif occ == 20: \"writer\"\n",
    "        \n",
    "userID = 1.\n",
    "user = df_users[df_users[\"userID\"]==userID]\n",
    "\n",
    "print(\"id: {}, G: {}, age {}, oc: {}, zc: {}\" \n",
    "      .format(user[\"userID\"][0], user[\"gender\"][0], getAg(user[\"age\"][0]), user[\"occupation\"][0], user[\"zipcode\"][0] ))\n",
    "# for i,r in topmovies:\n",
    "#     print(\"{0:5} - {1:1.2f} - {2}\" .format(i,  r, df_movies.iloc[i].title  ))\n"
   ]
  },
  {
   "cell_type": "code",
   "execution_count": null,
   "metadata": {
    "collapsed": true
   },
   "outputs": [],
   "source": []
  },
  {
   "cell_type": "code",
   "execution_count": null,
   "metadata": {
    "collapsed": true
   },
   "outputs": [],
   "source": []
  },
  {
   "cell_type": "code",
   "execution_count": null,
   "metadata": {
    "collapsed": true
   },
   "outputs": [],
   "source": []
  }
 ],
 "metadata": {
  "kernelspec": {
   "display_name": "Python 3",
   "language": "python",
   "name": "python3"
  },
  "language_info": {
   "codemirror_mode": {
    "name": "ipython",
    "version": 3
   },
   "file_extension": ".py",
   "mimetype": "text/x-python",
   "name": "python",
   "nbconvert_exporter": "python",
   "pygments_lexer": "ipython3",
   "version": "3.5.2"
  }
 },
 "nbformat": 4,
 "nbformat_minor": 2
}
