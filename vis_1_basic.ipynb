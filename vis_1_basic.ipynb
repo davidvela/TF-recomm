{
 "cells": [
  {
   "cell_type": "markdown",
   "metadata": {},
   "source": [
    "\n",
    "# TF-recomm\n"
   ]
  },
  {
   "cell_type": "code",
   "execution_count": 1,
   "metadata": {},
   "outputs": [],
   "source": [
    "import time\n",
    "from collections import deque\n",
    "import socket\n",
    "import sys\n",
    "import numpy as np\n",
    "import tensorflow as tf\n",
    "from six import next\n",
    "from tensorflow.core.framework import summary_pb2\n",
    "from tensorflow.python.tools.inspect_checkpoint import print_tensors_in_checkpoint_file\n",
    "\n",
    "import dataio\n",
    "import ops\n",
    "# tensorboard --logdir=.\\_zfp\\data\\my_graph\n",
    "# tensorboard => http://localhost:6006 \n",
    "# jupyter => http://localhost:8889"
   ]
  },
  {
   "cell_type": "code",
   "execution_count": 25,
   "metadata": {},
   "outputs": [],
   "source": [
    "import random\n",
    "import matplotlib.pyplot as plt\n",
    "# from wordcloud import WordCloud, STOPWORDS #used to generate world cloud\n",
    "\n"
   ]
  },
  {
   "cell_type": "code",
   "execution_count": 2,
   "metadata": {},
   "outputs": [],
   "source": [
    "np.random.seed(13575)\n",
    "\n",
    "BATCH_SIZE = 1000\n",
    "USER_NUM = 6040\n",
    "ITEM_NUM = 3952\n",
    "DIM = 15\n",
    "EPOCH_MAX = 100\n",
    "DEVICE = \"/cpu:0\""
   ]
  },
  {
   "cell_type": "code",
   "execution_count": 3,
   "metadata": {},
   "outputs": [],
   "source": [
    "def clip(x):\n",
    "    return np.clip(x, 1.0, 5.0)\n",
    "\n",
    "\n",
    "def make_scalar_summary(name, val):\n",
    "    return summary_pb2.Summary(value=[summary_pb2.Summary.Value(tag=name, simple_value=val)])\n",
    "\n",
    "def get_data():\n",
    "    df = dataio.read_process(\"./tmp/movielens/ml-1m/ratings.dat\", sep=\"::\")\n",
    "    rows = len(df)\n",
    "    df = df.iloc[np.random.permutation(rows)].reset_index(drop=True)\n",
    "    split_index = int(rows * 0.9)\n",
    "    df_train = df[0:split_index]\n",
    "    df_test = df[split_index:].reset_index(drop=True)\n",
    "    return df_train, df_test, rows\n",
    "\n",
    "def get_movies():\n",
    "    df = dataio.read_movies(\"./tmp/movielens/ml-1m/movies.dat\", sep=\"::\")\n",
    "    rows = len(df)\n",
    "    return df, rows"
   ]
  },
  {
   "cell_type": "markdown",
   "metadata": {},
   "source": [
    "# Data"
   ]
  },
  {
   "cell_type": "code",
   "execution_count": 34,
   "metadata": {},
   "outputs": [
    {
     "name": "stdout",
     "output_type": "stream",
     "text": [
      "Movies file length:\n",
      "3883\n",
      "Toy Story (1995)\n",
      "1\n",
      "Animation|Children's|Comedy\n"
     ]
    }
   ],
   "source": [
    "df_train, df_test, length = get_data()\n",
    "df_movies,rows = get_movies()"
   ]
  },
  {
   "cell_type": "code",
   "execution_count": 50,
   "metadata": {},
   "outputs": [
    {
     "name": "stdout",
     "output_type": "stream",
     "text": [
      "ratings: 1000209 - tr900188 - ts100021\n"
     ]
    },
    {
     "data": {
      "text/plain": [
       "1000209"
      ]
     },
     "execution_count": 50,
     "metadata": {},
     "output_type": "execute_result"
    }
   ],
   "source": [
    "print(\"ratings: {} - tr{} - ts{}\" .format(length, len(df_train),len(df_test) ))\n",
    "df_ratings = pd.concat([df_train, df_test ] )\n",
    "len(df_ratings)"
   ]
  },
  {
   "cell_type": "code",
   "execution_count": 5,
   "metadata": {},
   "outputs": [
    {
     "name": "stdout",
     "output_type": "stream",
     "text": [
      "   user  item  rate         st\n",
      "0  1893  1692   4.0  974695176\n",
      "1  5947  2312   4.0  957190990\n",
      "2   162   365   2.0  977323187\n",
      "3  5117   456   3.0  962294766\n",
      "4  2029   315   1.0  974929369\n",
      "5  2220  1844   5.0  974603135\n",
      "6  4385  3385   3.0  965172804\n",
      "7  5779   282   4.0  958156569\n",
      "8  3617  3740   2.0  966600773\n",
      "9  3640   584   4.0  966482594\n"
     ]
    },
    {
     "data": {
      "text/html": [
       "<div>\n",
       "<style>\n",
       "    .dataframe thead tr:only-child th {\n",
       "        text-align: right;\n",
       "    }\n",
       "\n",
       "    .dataframe thead th {\n",
       "        text-align: left;\n",
       "    }\n",
       "\n",
       "    .dataframe tbody tr th {\n",
       "        vertical-align: top;\n",
       "    }\n",
       "</style>\n",
       "<table border=\"1\" class=\"dataframe\">\n",
       "  <thead>\n",
       "    <tr style=\"text-align: right;\">\n",
       "      <th></th>\n",
       "      <th>user</th>\n",
       "      <th>item</th>\n",
       "      <th>rate</th>\n",
       "      <th>st</th>\n",
       "    </tr>\n",
       "  </thead>\n",
       "  <tbody>\n",
       "    <tr>\n",
       "      <th>count</th>\n",
       "      <td>900188.000000</td>\n",
       "      <td>900188.000000</td>\n",
       "      <td>900188.000000</td>\n",
       "      <td>9.001880e+05</td>\n",
       "    </tr>\n",
       "    <tr>\n",
       "      <th>mean</th>\n",
       "      <td>3022.600601</td>\n",
       "      <td>1864.635758</td>\n",
       "      <td>3.581352</td>\n",
       "      <td>9.722461e+08</td>\n",
       "    </tr>\n",
       "    <tr>\n",
       "      <th>std</th>\n",
       "      <td>1728.384446</td>\n",
       "      <td>1096.003424</td>\n",
       "      <td>1.117216</td>\n",
       "      <td>1.215377e+07</td>\n",
       "    </tr>\n",
       "    <tr>\n",
       "      <th>min</th>\n",
       "      <td>0.000000</td>\n",
       "      <td>0.000000</td>\n",
       "      <td>1.000000</td>\n",
       "      <td>9.567039e+08</td>\n",
       "    </tr>\n",
       "    <tr>\n",
       "      <th>25%</th>\n",
       "      <td>1504.000000</td>\n",
       "      <td>1029.000000</td>\n",
       "      <td>3.000000</td>\n",
       "      <td>9.653027e+08</td>\n",
       "    </tr>\n",
       "    <tr>\n",
       "      <th>50%</th>\n",
       "      <td>3068.000000</td>\n",
       "      <td>1834.000000</td>\n",
       "      <td>4.000000</td>\n",
       "      <td>9.730215e+08</td>\n",
       "    </tr>\n",
       "    <tr>\n",
       "      <th>75%</th>\n",
       "      <td>4475.000000</td>\n",
       "      <td>2769.000000</td>\n",
       "      <td>4.000000</td>\n",
       "      <td>9.752212e+08</td>\n",
       "    </tr>\n",
       "    <tr>\n",
       "      <th>max</th>\n",
       "      <td>6039.000000</td>\n",
       "      <td>3951.000000</td>\n",
       "      <td>5.000000</td>\n",
       "      <td>1.046455e+09</td>\n",
       "    </tr>\n",
       "  </tbody>\n",
       "</table>\n",
       "</div>"
      ],
      "text/plain": [
       "                user           item           rate            st\n",
       "count  900188.000000  900188.000000  900188.000000  9.001880e+05\n",
       "mean     3022.600601    1864.635758       3.581352  9.722461e+08\n",
       "std      1728.384446    1096.003424       1.117216  1.215377e+07\n",
       "min         0.000000       0.000000       1.000000  9.567039e+08\n",
       "25%      1504.000000    1029.000000       3.000000  9.653027e+08\n",
       "50%      3068.000000    1834.000000       4.000000  9.730215e+08\n",
       "75%      4475.000000    2769.000000       4.000000  9.752212e+08\n",
       "max      6039.000000    3951.000000       5.000000  1.046455e+09"
      ]
     },
     "execution_count": 5,
     "metadata": {},
     "output_type": "execute_result"
    }
   ],
   "source": [
    "print(df_train.iloc[0:10])\n",
    "df_train.describe()"
   ]
  },
  {
   "cell_type": "code",
   "execution_count": 6,
   "metadata": {},
   "outputs": [
    {
     "name": "stdout",
     "output_type": "stream",
     "text": [
      "Movies file length: 3883\n"
     ]
    }
   ],
   "source": [
    "print (\"Movies file length: {}\" .format(len(df_movies)))"
   ]
  },
  {
   "cell_type": "code",
   "execution_count": 7,
   "metadata": {},
   "outputs": [
    {
     "data": {
      "text/html": [
       "<div>\n",
       "<style>\n",
       "    .dataframe thead tr:only-child th {\n",
       "        text-align: right;\n",
       "    }\n",
       "\n",
       "    .dataframe thead th {\n",
       "        text-align: left;\n",
       "    }\n",
       "\n",
       "    .dataframe tbody tr th {\n",
       "        vertical-align: top;\n",
       "    }\n",
       "</style>\n",
       "<table border=\"1\" class=\"dataframe\">\n",
       "  <thead>\n",
       "    <tr style=\"text-align: right;\">\n",
       "      <th></th>\n",
       "      <th>movie</th>\n",
       "      <th>title</th>\n",
       "      <th>tags</th>\n",
       "    </tr>\n",
       "  </thead>\n",
       "  <tbody>\n",
       "    <tr>\n",
       "      <th>0</th>\n",
       "      <td>1</td>\n",
       "      <td>Toy Story (1995)</td>\n",
       "      <td>Animation|Children's|Comedy</td>\n",
       "    </tr>\n",
       "    <tr>\n",
       "      <th>1</th>\n",
       "      <td>2</td>\n",
       "      <td>Jumanji (1995)</td>\n",
       "      <td>Adventure|Children's|Fantasy</td>\n",
       "    </tr>\n",
       "    <tr>\n",
       "      <th>2</th>\n",
       "      <td>3</td>\n",
       "      <td>Grumpier Old Men (1995)</td>\n",
       "      <td>Comedy|Romance</td>\n",
       "    </tr>\n",
       "    <tr>\n",
       "      <th>3</th>\n",
       "      <td>4</td>\n",
       "      <td>Waiting to Exhale (1995)</td>\n",
       "      <td>Comedy|Drama</td>\n",
       "    </tr>\n",
       "    <tr>\n",
       "      <th>4</th>\n",
       "      <td>5</td>\n",
       "      <td>Father of the Bride Part II (1995)</td>\n",
       "      <td>Comedy</td>\n",
       "    </tr>\n",
       "    <tr>\n",
       "      <th>5</th>\n",
       "      <td>6</td>\n",
       "      <td>Heat (1995)</td>\n",
       "      <td>Action|Crime|Thriller</td>\n",
       "    </tr>\n",
       "    <tr>\n",
       "      <th>6</th>\n",
       "      <td>7</td>\n",
       "      <td>Sabrina (1995)</td>\n",
       "      <td>Comedy|Romance</td>\n",
       "    </tr>\n",
       "    <tr>\n",
       "      <th>7</th>\n",
       "      <td>8</td>\n",
       "      <td>Tom and Huck (1995)</td>\n",
       "      <td>Adventure|Children's</td>\n",
       "    </tr>\n",
       "    <tr>\n",
       "      <th>8</th>\n",
       "      <td>9</td>\n",
       "      <td>Sudden Death (1995)</td>\n",
       "      <td>Action</td>\n",
       "    </tr>\n",
       "    <tr>\n",
       "      <th>9</th>\n",
       "      <td>10</td>\n",
       "      <td>GoldenEye (1995)</td>\n",
       "      <td>Action|Adventure|Thriller</td>\n",
       "    </tr>\n",
       "  </tbody>\n",
       "</table>\n",
       "</div>"
      ],
      "text/plain": [
       "   movie                               title                          tags\n",
       "0      1                    Toy Story (1995)   Animation|Children's|Comedy\n",
       "1      2                      Jumanji (1995)  Adventure|Children's|Fantasy\n",
       "2      3             Grumpier Old Men (1995)                Comedy|Romance\n",
       "3      4            Waiting to Exhale (1995)                  Comedy|Drama\n",
       "4      5  Father of the Bride Part II (1995)                        Comedy\n",
       "5      6                         Heat (1995)         Action|Crime|Thriller\n",
       "6      7                      Sabrina (1995)                Comedy|Romance\n",
       "7      8                 Tom and Huck (1995)          Adventure|Children's\n",
       "8      9                 Sudden Death (1995)                        Action\n",
       "9     10                    GoldenEye (1995)     Action|Adventure|Thriller"
      ]
     },
     "execution_count": 7,
     "metadata": {},
     "output_type": "execute_result"
    }
   ],
   "source": [
    "df_movies.iloc[0:10]"
   ]
  },
  {
   "cell_type": "code",
   "execution_count": 8,
   "metadata": {},
   "outputs": [
    {
     "data": {
      "text/plain": [
       "'Toy Story (1995)'"
      ]
     },
     "execution_count": 8,
     "metadata": {},
     "output_type": "execute_result"
    }
   ],
   "source": [
    "df_movies.iloc[0].title"
   ]
  },
  {
   "cell_type": "code",
   "execution_count": 21,
   "metadata": {},
   "outputs": [],
   "source": [
    "# type(df_movies)"
   ]
  },
  {
   "cell_type": "code",
   "execution_count": 28,
   "metadata": {},
   "outputs": [
    {
     "name": "stdout",
     "output_type": "stream",
     "text": [
      "<class 'pandas.core.frame.DataFrame'>\n",
      "RangeIndex: 3883 entries, 0 to 3882\n",
      "Data columns (total 3 columns):\n",
      "movie    3883 non-null int32\n",
      "title    3883 non-null object\n",
      "tags     3883 non-null object\n",
      "dtypes: int32(1), object(2)\n",
      "memory usage: 75.9+ KB\n"
     ]
    }
   ],
   "source": [
    "# get titles\n",
    "# df_movies.head() # display first 5entries\n",
    "df_movies.info()\n",
    "\n"
   ]
  },
  {
   "cell_type": "code",
   "execution_count": 33,
   "metadata": {},
   "outputs": [
    {
     "name": "stdout",
     "output_type": "stream",
     "text": [
      "unique number of movies: 3883\n"
     ]
    }
   ],
   "source": [
    "#number of unique movies\n",
    "movies = df_movies['movie'].unique().tolist()\n",
    "print(\"unique number of movies: \" + str(len(movies)) )"
   ]
  },
  {
   "cell_type": "code",
   "execution_count": 51,
   "metadata": {},
   "outputs": [
    {
     "data": {
      "text/html": [
       "<div>\n",
       "<style>\n",
       "    .dataframe thead tr:only-child th {\n",
       "        text-align: right;\n",
       "    }\n",
       "\n",
       "    .dataframe thead th {\n",
       "        text-align: left;\n",
       "    }\n",
       "\n",
       "    .dataframe tbody tr th {\n",
       "        vertical-align: top;\n",
       "    }\n",
       "</style>\n",
       "<table border=\"1\" class=\"dataframe\">\n",
       "  <thead>\n",
       "    <tr style=\"text-align: right;\">\n",
       "      <th></th>\n",
       "      <th>user</th>\n",
       "      <th>item</th>\n",
       "      <th>rate</th>\n",
       "      <th>st</th>\n",
       "    </tr>\n",
       "  </thead>\n",
       "  <tbody>\n",
       "    <tr>\n",
       "      <th>count</th>\n",
       "      <td>1.000209e+06</td>\n",
       "      <td>1.000209e+06</td>\n",
       "      <td>1.000209e+06</td>\n",
       "      <td>1.000209e+06</td>\n",
       "    </tr>\n",
       "    <tr>\n",
       "      <th>mean</th>\n",
       "      <td>3.023512e+03</td>\n",
       "      <td>1.864540e+03</td>\n",
       "      <td>3.581564e+00</td>\n",
       "      <td>9.722437e+08</td>\n",
       "    </tr>\n",
       "    <tr>\n",
       "      <th>std</th>\n",
       "      <td>1.728413e+03</td>\n",
       "      <td>1.096041e+03</td>\n",
       "      <td>1.117102e+00</td>\n",
       "      <td>1.215256e+07</td>\n",
       "    </tr>\n",
       "    <tr>\n",
       "      <th>min</th>\n",
       "      <td>0.000000e+00</td>\n",
       "      <td>0.000000e+00</td>\n",
       "      <td>1.000000e+00</td>\n",
       "      <td>9.567039e+08</td>\n",
       "    </tr>\n",
       "    <tr>\n",
       "      <th>25%</th>\n",
       "      <td>1.505000e+03</td>\n",
       "      <td>1.029000e+03</td>\n",
       "      <td>3.000000e+00</td>\n",
       "      <td>9.653026e+08</td>\n",
       "    </tr>\n",
       "    <tr>\n",
       "      <th>50%</th>\n",
       "      <td>3.069000e+03</td>\n",
       "      <td>1.834000e+03</td>\n",
       "      <td>4.000000e+00</td>\n",
       "      <td>9.730180e+08</td>\n",
       "    </tr>\n",
       "    <tr>\n",
       "      <th>75%</th>\n",
       "      <td>4.475000e+03</td>\n",
       "      <td>2.769000e+03</td>\n",
       "      <td>4.000000e+00</td>\n",
       "      <td>9.752209e+08</td>\n",
       "    </tr>\n",
       "    <tr>\n",
       "      <th>max</th>\n",
       "      <td>6.039000e+03</td>\n",
       "      <td>3.951000e+03</td>\n",
       "      <td>5.000000e+00</td>\n",
       "      <td>1.046455e+09</td>\n",
       "    </tr>\n",
       "  </tbody>\n",
       "</table>\n",
       "</div>"
      ],
      "text/plain": [
       "               user          item          rate            st\n",
       "count  1.000209e+06  1.000209e+06  1.000209e+06  1.000209e+06\n",
       "mean   3.023512e+03  1.864540e+03  3.581564e+00  9.722437e+08\n",
       "std    1.728413e+03  1.096041e+03  1.117102e+00  1.215256e+07\n",
       "min    0.000000e+00  0.000000e+00  1.000000e+00  9.567039e+08\n",
       "25%    1.505000e+03  1.029000e+03  3.000000e+00  9.653026e+08\n",
       "50%    3.069000e+03  1.834000e+03  4.000000e+00  9.730180e+08\n",
       "75%    4.475000e+03  2.769000e+03  4.000000e+00  9.752209e+08\n",
       "max    6.039000e+03  3.951000e+03  5.000000e+00  1.046455e+09"
      ]
     },
     "execution_count": 51,
     "metadata": {},
     "output_type": "execute_result"
    }
   ],
   "source": [
    "df_ratings.describe() #min 1 - max 5"
   ]
  },
  {
   "cell_type": "code",
   "execution_count": 65,
   "metadata": {},
   "outputs": [
    {
     "data": {
      "text/html": [
       "<div>\n",
       "<style>\n",
       "    .dataframe thead tr:only-child th {\n",
       "        text-align: right;\n",
       "    }\n",
       "\n",
       "    .dataframe thead th {\n",
       "        text-align: left;\n",
       "    }\n",
       "\n",
       "    .dataframe tbody tr th {\n",
       "        vertical-align: top;\n",
       "    }\n",
       "</style>\n",
       "<table border=\"1\" class=\"dataframe\">\n",
       "  <thead>\n",
       "    <tr style=\"text-align: right;\">\n",
       "      <th></th>\n",
       "      <th>user</th>\n",
       "      <th>item</th>\n",
       "      <th>rate</th>\n",
       "      <th>st</th>\n",
       "    </tr>\n",
       "  </thead>\n",
       "  <tbody>\n",
       "    <tr>\n",
       "      <th>0</th>\n",
       "      <td>2662</td>\n",
       "      <td>3209</td>\n",
       "      <td>4.0</td>\n",
       "      <td>973459383</td>\n",
       "    </tr>\n",
       "    <tr>\n",
       "      <th>1</th>\n",
       "      <td>1752</td>\n",
       "      <td>1911</td>\n",
       "      <td>5.0</td>\n",
       "      <td>974702638</td>\n",
       "    </tr>\n",
       "    <tr>\n",
       "      <th>2</th>\n",
       "      <td>2105</td>\n",
       "      <td>2452</td>\n",
       "      <td>1.0</td>\n",
       "      <td>974755210</td>\n",
       "    </tr>\n",
       "    <tr>\n",
       "      <th>3</th>\n",
       "      <td>1779</td>\n",
       "      <td>3051</td>\n",
       "      <td>2.0</td>\n",
       "      <td>1027037687</td>\n",
       "    </tr>\n",
       "    <tr>\n",
       "      <th>4</th>\n",
       "      <td>1697</td>\n",
       "      <td>1526</td>\n",
       "      <td>3.0</td>\n",
       "      <td>974773234</td>\n",
       "    </tr>\n",
       "  </tbody>\n",
       "</table>\n",
       "</div>"
      ],
      "text/plain": [
       "   user  item  rate          st\n",
       "0  2662  3209   4.0   973459383\n",
       "1  1752  1911   5.0   974702638\n",
       "2  2105  2452   1.0   974755210\n",
       "3  1779  3051   2.0  1027037687\n",
       "4  1697  1526   3.0   974773234"
      ]
     },
     "execution_count": 65,
     "metadata": {},
     "output_type": "execute_result"
    }
   ],
   "source": [
    "df_ratings.head()"
   ]
  },
  {
   "cell_type": "code",
   "execution_count": 57,
   "metadata": {},
   "outputs": [
    {
     "name": "stdout",
     "output_type": "stream",
     "text": [
      "data clean up\n"
     ]
    }
   ],
   "source": [
    "# data clean up: \n",
    "df_movies.shape # 3883, 3\n",
    "df_movies.isnull().any() #is any row null: False \n",
    "df_ratings.shape #1000209 4\n",
    "df_ratings.isnull().any() # False! \n",
    "# ? tags... ml2-m ... \n",
    "# tags_data=pd.read_csv('../input/tags.csv',sep=',')\n",
    "# tags_data.shape\n",
    "# tags_data.isnull().any()\n",
    "# tags_data.dopna()\n",
    "# unique_tags=tags_data['tag'].unique().tolist()\n",
    "# len(unique_tags)\n",
    "print(\"data clean up\")"
   ]
  },
  {
   "cell_type": "code",
   "execution_count": 63,
   "metadata": {},
   "outputs": [
    {
     "data": {
      "text/html": [
       "<div>\n",
       "<style>\n",
       "    .dataframe thead tr:only-child th {\n",
       "        text-align: right;\n",
       "    }\n",
       "\n",
       "    .dataframe thead th {\n",
       "        text-align: left;\n",
       "    }\n",
       "\n",
       "    .dataframe tbody tr th {\n",
       "        vertical-align: top;\n",
       "    }\n",
       "</style>\n",
       "<table border=\"1\" class=\"dataframe\">\n",
       "  <thead>\n",
       "    <tr style=\"text-align: right;\">\n",
       "      <th></th>\n",
       "      <th>movie</th>\n",
       "      <th>title</th>\n",
       "      <th>tags</th>\n",
       "    </tr>\n",
       "  </thead>\n",
       "  <tbody>\n",
       "    <tr>\n",
       "      <th>0</th>\n",
       "      <td>1</td>\n",
       "      <td>Toy Story (1995)</td>\n",
       "      <td>Animation|Children's|Comedy</td>\n",
       "    </tr>\n",
       "    <tr>\n",
       "      <th>2</th>\n",
       "      <td>3</td>\n",
       "      <td>Grumpier Old Men (1995)</td>\n",
       "      <td>Comedy|Romance</td>\n",
       "    </tr>\n",
       "    <tr>\n",
       "      <th>3</th>\n",
       "      <td>4</td>\n",
       "      <td>Waiting to Exhale (1995)</td>\n",
       "      <td>Comedy|Drama</td>\n",
       "    </tr>\n",
       "    <tr>\n",
       "      <th>4</th>\n",
       "      <td>5</td>\n",
       "      <td>Father of the Bride Part II (1995)</td>\n",
       "      <td>Comedy</td>\n",
       "    </tr>\n",
       "    <tr>\n",
       "      <th>6</th>\n",
       "      <td>7</td>\n",
       "      <td>Sabrina (1995)</td>\n",
       "      <td>Comedy|Romance</td>\n",
       "    </tr>\n",
       "  </tbody>\n",
       "</table>\n",
       "</div>"
      ],
      "text/plain": [
       "   movie                               title                         tags\n",
       "0      1                    Toy Story (1995)  Animation|Children's|Comedy\n",
       "2      3             Grumpier Old Men (1995)               Comedy|Romance\n",
       "3      4            Waiting to Exhale (1995)                 Comedy|Drama\n",
       "4      5  Father of the Bride Part II (1995)                       Comedy\n",
       "6      7                      Sabrina (1995)               Comedy|Romance"
      ]
     },
     "execution_count": 63,
     "metadata": {},
     "output_type": "execute_result"
    }
   ],
   "source": [
    "comedy_movies = df_movies['tags'].str.contains('Comedy')\n",
    "df_movies[comedy_movies].head()"
   ]
  },
  {
   "cell_type": "code",
   "execution_count": 71,
   "metadata": {},
   "outputs": [
    {
     "data": {
      "text/html": [
       "<div>\n",
       "<style>\n",
       "    .dataframe thead tr:only-child th {\n",
       "        text-align: right;\n",
       "    }\n",
       "\n",
       "    .dataframe thead th {\n",
       "        text-align: left;\n",
       "    }\n",
       "\n",
       "    .dataframe tbody tr th {\n",
       "        vertical-align: top;\n",
       "    }\n",
       "</style>\n",
       "<table border=\"1\" class=\"dataframe\">\n",
       "  <thead>\n",
       "    <tr style=\"text-align: right;\">\n",
       "      <th></th>\n",
       "      <th>movie</th>\n",
       "      <th>title</th>\n",
       "      <th>tags</th>\n",
       "      <th>user</th>\n",
       "      <th>item</th>\n",
       "      <th>rate</th>\n",
       "      <th>st</th>\n",
       "    </tr>\n",
       "  </thead>\n",
       "  <tbody>\n",
       "    <tr>\n",
       "      <th>0</th>\n",
       "      <td>1</td>\n",
       "      <td>Toy Story (1995)</td>\n",
       "      <td>Animation|Children's|Comedy</td>\n",
       "      <td>367</td>\n",
       "      <td>1</td>\n",
       "      <td>4.0</td>\n",
       "      <td>976671174</td>\n",
       "    </tr>\n",
       "    <tr>\n",
       "      <th>1</th>\n",
       "      <td>1</td>\n",
       "      <td>Toy Story (1995)</td>\n",
       "      <td>Animation|Children's|Comedy</td>\n",
       "      <td>146</td>\n",
       "      <td>1</td>\n",
       "      <td>4.0</td>\n",
       "      <td>977357720</td>\n",
       "    </tr>\n",
       "    <tr>\n",
       "      <th>2</th>\n",
       "      <td>1</td>\n",
       "      <td>Toy Story (1995)</td>\n",
       "      <td>Animation|Children's|Comedy</td>\n",
       "      <td>5633</td>\n",
       "      <td>1</td>\n",
       "      <td>4.0</td>\n",
       "      <td>959008544</td>\n",
       "    </tr>\n",
       "  </tbody>\n",
       "</table>\n",
       "</div>"
      ],
      "text/plain": [
       "   movie             title                         tags  user  item  rate  \\\n",
       "0      1  Toy Story (1995)  Animation|Children's|Comedy   367     1   4.0   \n",
       "1      1  Toy Story (1995)  Animation|Children's|Comedy   146     1   4.0   \n",
       "2      1  Toy Story (1995)  Animation|Children's|Comedy  5633     1   4.0   \n",
       "\n",
       "          st  \n",
       "0  976671174  \n",
       "1  977357720  \n",
       "2  959008544  "
      ]
     },
     "execution_count": 71,
     "metadata": {},
     "output_type": "execute_result"
    }
   ],
   "source": [
    "movie_data_ratings_data=df_movies.merge(df_ratings, left_on = \"movie\" , right_on = 'item', how = 'inner') #on= \"movieId\"\n",
    "movie_data_ratings_data.head(3)"
   ]
  },
  {
   "cell_type": "code",
   "execution_count": 74,
   "metadata": {},
   "outputs": [
    {
     "data": {
      "text/html": [
       "<div>\n",
       "<style>\n",
       "    .dataframe thead tr:only-child th {\n",
       "        text-align: right;\n",
       "    }\n",
       "\n",
       "    .dataframe thead th {\n",
       "        text-align: left;\n",
       "    }\n",
       "\n",
       "    .dataframe tbody tr th {\n",
       "        vertical-align: top;\n",
       "    }\n",
       "</style>\n",
       "<table border=\"1\" class=\"dataframe\">\n",
       "  <thead>\n",
       "    <tr style=\"text-align: right;\">\n",
       "      <th></th>\n",
       "      <th>movie</th>\n",
       "      <th>title</th>\n",
       "      <th>tags</th>\n",
       "      <th>user</th>\n",
       "      <th>item</th>\n",
       "      <th>rate</th>\n",
       "      <th>st</th>\n",
       "    </tr>\n",
       "  </thead>\n",
       "  <tbody>\n",
       "    <tr>\n",
       "      <th>12</th>\n",
       "      <td>1</td>\n",
       "      <td>Toy Story (1995)</td>\n",
       "      <td>Animation|Children's|Comedy</td>\n",
       "      <td>3307</td>\n",
       "      <td>1</td>\n",
       "      <td>5.0</td>\n",
       "      <td>967975269</td>\n",
       "    </tr>\n",
       "    <tr>\n",
       "      <th>22</th>\n",
       "      <td>1</td>\n",
       "      <td>Toy Story (1995)</td>\n",
       "      <td>Animation|Children's|Comedy</td>\n",
       "      <td>1995</td>\n",
       "      <td>1</td>\n",
       "      <td>5.0</td>\n",
       "      <td>974681923</td>\n",
       "    </tr>\n",
       "    <tr>\n",
       "      <th>76</th>\n",
       "      <td>1</td>\n",
       "      <td>Toy Story (1995)</td>\n",
       "      <td>Animation|Children's|Comedy</td>\n",
       "      <td>3710</td>\n",
       "      <td>1</td>\n",
       "      <td>5.0</td>\n",
       "      <td>966270677</td>\n",
       "    </tr>\n",
       "    <tr>\n",
       "      <th>105</th>\n",
       "      <td>1</td>\n",
       "      <td>Toy Story (1995)</td>\n",
       "      <td>Animation|Children's|Comedy</td>\n",
       "      <td>691</td>\n",
       "      <td>1</td>\n",
       "      <td>5.0</td>\n",
       "      <td>975739161</td>\n",
       "    </tr>\n",
       "    <tr>\n",
       "      <th>117</th>\n",
       "      <td>1</td>\n",
       "      <td>Toy Story (1995)</td>\n",
       "      <td>Animation|Children's|Comedy</td>\n",
       "      <td>5567</td>\n",
       "      <td>1</td>\n",
       "      <td>5.0</td>\n",
       "      <td>959310761</td>\n",
       "    </tr>\n",
       "    <tr>\n",
       "      <th>129</th>\n",
       "      <td>1</td>\n",
       "      <td>Toy Story (1995)</td>\n",
       "      <td>Animation|Children's|Comedy</td>\n",
       "      <td>59</td>\n",
       "      <td>1</td>\n",
       "      <td>5.0</td>\n",
       "      <td>977931869</td>\n",
       "    </tr>\n",
       "    <tr>\n",
       "      <th>136</th>\n",
       "      <td>1</td>\n",
       "      <td>Toy Story (1995)</td>\n",
       "      <td>Animation|Children's|Comedy</td>\n",
       "      <td>5924</td>\n",
       "      <td>1</td>\n",
       "      <td>5.0</td>\n",
       "      <td>957294433</td>\n",
       "    </tr>\n",
       "    <tr>\n",
       "      <th>160</th>\n",
       "      <td>1</td>\n",
       "      <td>Toy Story (1995)</td>\n",
       "      <td>Animation|Children's|Comedy</td>\n",
       "      <td>1982</td>\n",
       "      <td>1</td>\n",
       "      <td>5.0</td>\n",
       "      <td>975054170</td>\n",
       "    </tr>\n",
       "    <tr>\n",
       "      <th>165</th>\n",
       "      <td>1</td>\n",
       "      <td>Toy Story (1995)</td>\n",
       "      <td>Animation|Children's|Comedy</td>\n",
       "      <td>4818</td>\n",
       "      <td>1</td>\n",
       "      <td>5.0</td>\n",
       "      <td>962923274</td>\n",
       "    </tr>\n",
       "    <tr>\n",
       "      <th>168</th>\n",
       "      <td>1</td>\n",
       "      <td>Toy Story (1995)</td>\n",
       "      <td>Animation|Children's|Comedy</td>\n",
       "      <td>4206</td>\n",
       "      <td>1</td>\n",
       "      <td>5.0</td>\n",
       "      <td>965326554</td>\n",
       "    </tr>\n",
       "  </tbody>\n",
       "</table>\n",
       "</div>"
      ],
      "text/plain": [
       "     movie             title                         tags  user  item  rate  \\\n",
       "12       1  Toy Story (1995)  Animation|Children's|Comedy  3307     1   5.0   \n",
       "22       1  Toy Story (1995)  Animation|Children's|Comedy  1995     1   5.0   \n",
       "76       1  Toy Story (1995)  Animation|Children's|Comedy  3710     1   5.0   \n",
       "105      1  Toy Story (1995)  Animation|Children's|Comedy   691     1   5.0   \n",
       "117      1  Toy Story (1995)  Animation|Children's|Comedy  5567     1   5.0   \n",
       "129      1  Toy Story (1995)  Animation|Children's|Comedy    59     1   5.0   \n",
       "136      1  Toy Story (1995)  Animation|Children's|Comedy  5924     1   5.0   \n",
       "160      1  Toy Story (1995)  Animation|Children's|Comedy  1982     1   5.0   \n",
       "165      1  Toy Story (1995)  Animation|Children's|Comedy  4818     1   5.0   \n",
       "168      1  Toy Story (1995)  Animation|Children's|Comedy  4206     1   5.0   \n",
       "\n",
       "            st  \n",
       "12   967975269  \n",
       "22   974681923  \n",
       "76   966270677  \n",
       "105  975739161  \n",
       "117  959310761  \n",
       "129  977931869  \n",
       "136  957294433  \n",
       "160  975054170  \n",
       "165  962923274  \n",
       "168  965326554  "
      ]
     },
     "execution_count": 74,
     "metadata": {},
     "output_type": "execute_result"
    }
   ],
   "source": [
    "high_rated= movie_data_ratings_data['rate']>4.0\n",
    "movie_data_ratings_data[high_rated].head(10)\n"
   ]
  },
  {
   "cell_type": "code",
   "execution_count": 75,
   "metadata": {},
   "outputs": [
    {
     "data": {
      "text/plain": [
       "title\n",
       "Yellow Submarine (1968)                                  3428\n",
       "Kiss of Death (1995)                                     2991\n",
       "Once Upon a Time in the West (1969)                      2883\n",
       "Judgment Night (1993)                                    2672\n",
       "Mafia! (1998)                                            2653\n",
       "Aladdin (1992)                                           2649\n",
       "Walk on the Moon, A (1999)                               2590\n",
       "Arsenic and Old Lace (1944)                              2583\n",
       "Batman (1989)                                            2578\n",
       "For Ever Mozart (1996)                                   2538\n",
       "Princess Bride, The (1987)                               2514\n",
       "Century (1993)                                           2513\n",
       "Iron Giant, The (1999)                                   2459\n",
       "Headless Body in Topless Bar (1995)                      2443\n",
       "Rushmore (1998)                                          2369\n",
       "Star Wars: Episode V - The Empire Strikes Back (1980)    2318\n",
       "Savage Nights (Nuits fauves, Les) (1992)                 2304\n",
       "Peacemaker, The (1997)                                   2288\n",
       "Diva (1981)                                              2278\n",
       "Sophie's Choice (1982)                                   2269\n",
       "Endurance (1998)                                         2250\n",
       "Music of the Heart (1999)                                2241\n",
       "Santa Clause, The (1994)                                 2227\n",
       "Crows and Sparrows (1949)                                2223\n",
       "Flintstones, The (1994)                                  2194\n",
       "dtype: int64"
      ]
     },
     "execution_count": 75,
     "metadata": {},
     "output_type": "execute_result"
    }
   ],
   "source": [
    "most_rated = movie_data_ratings_data.groupby('title').size().sort_values(ascending=False)[:25]\n",
    "most_rated.head(25)"
   ]
  },
  {
   "cell_type": "code",
   "execution_count": 77,
   "metadata": {},
   "outputs": [
    {
     "data": {
      "text/html": [
       "<div>\n",
       "<style>\n",
       "    .dataframe thead tr:only-child th {\n",
       "        text-align: right;\n",
       "    }\n",
       "\n",
       "    .dataframe thead th {\n",
       "        text-align: left;\n",
       "    }\n",
       "\n",
       "    .dataframe tbody tr th {\n",
       "        vertical-align: top;\n",
       "    }\n",
       "</style>\n",
       "<table border=\"1\" class=\"dataframe\">\n",
       "  <thead>\n",
       "    <tr style=\"text-align: right;\">\n",
       "      <th></th>\n",
       "      <th>movie</th>\n",
       "      <th>title</th>\n",
       "      <th>tags</th>\n",
       "      <th>year</th>\n",
       "    </tr>\n",
       "  </thead>\n",
       "  <tbody>\n",
       "    <tr>\n",
       "      <th>0</th>\n",
       "      <td>1</td>\n",
       "      <td>Toy Story (1995)</td>\n",
       "      <td>Animation|Children's|Comedy</td>\n",
       "      <td>1995</td>\n",
       "    </tr>\n",
       "    <tr>\n",
       "      <th>1</th>\n",
       "      <td>2</td>\n",
       "      <td>Jumanji (1995)</td>\n",
       "      <td>Adventure|Children's|Fantasy</td>\n",
       "      <td>1995</td>\n",
       "    </tr>\n",
       "    <tr>\n",
       "      <th>2</th>\n",
       "      <td>3</td>\n",
       "      <td>Grumpier Old Men (1995)</td>\n",
       "      <td>Comedy|Romance</td>\n",
       "      <td>1995</td>\n",
       "    </tr>\n",
       "    <tr>\n",
       "      <th>3</th>\n",
       "      <td>4</td>\n",
       "      <td>Waiting to Exhale (1995)</td>\n",
       "      <td>Comedy|Drama</td>\n",
       "      <td>1995</td>\n",
       "    </tr>\n",
       "    <tr>\n",
       "      <th>4</th>\n",
       "      <td>5</td>\n",
       "      <td>Father of the Bride Part II (1995)</td>\n",
       "      <td>Comedy</td>\n",
       "      <td>1995</td>\n",
       "    </tr>\n",
       "  </tbody>\n",
       "</table>\n",
       "</div>"
      ],
      "text/plain": [
       "   movie                               title                          tags  \\\n",
       "0      1                    Toy Story (1995)   Animation|Children's|Comedy   \n",
       "1      2                      Jumanji (1995)  Adventure|Children's|Fantasy   \n",
       "2      3             Grumpier Old Men (1995)                Comedy|Romance   \n",
       "3      4            Waiting to Exhale (1995)                  Comedy|Drama   \n",
       "4      5  Father of the Bride Part II (1995)                        Comedy   \n",
       "\n",
       "   year  \n",
       "0  1995  \n",
       "1  1995  \n",
       "2  1995  \n",
       "3  1995  \n",
       "4  1995  "
      ]
     },
     "execution_count": 77,
     "metadata": {},
     "output_type": "execute_result"
    }
   ],
   "source": [
    "# df_movies[['title','genres']].head()\n",
    "# get the year of the movies: \n",
    "df_movies['year'] =df_movies['title'].str.extract('.*\\((.*)\\).*',expand = False)\n",
    "df_movies.head(5)\n",
    "\n"
   ]
  },
  {
   "cell_type": "code",
   "execution_count": 78,
   "metadata": {},
   "outputs": [],
   "source": [
    "# count how many times each genre appear: \n",
    "def count_word(df, ref_col, liste):\n",
    "    keyword_count = dict()\n",
    "    for s in liste: keyword_count[s] = 0\n",
    "    for liste_keywords in df[ref_col].str.split('|'):\n",
    "        if type(liste_keywords) == float and pd.isnull(liste_keywords): continue\n",
    "        for s in liste_keywords: \n",
    "            if pd.notnull(s): keyword_count[s] += 1\n",
    "    # convert the dictionary in a list to sort the keywords  by frequency\n",
    "    keyword_occurences = []\n",
    "    for k,v in keyword_count.items():\n",
    "        keyword_occurences.append([k,v])\n",
    "    keyword_occurences.sort(key = lambda x:x[1], reverse = True)\n",
    "    return keyword_occurences, keyword_count"
   ]
  },
  {
   "cell_type": "code",
   "execution_count": 80,
   "metadata": {},
   "outputs": [],
   "source": [
    "genre_labels = set()\n",
    "for s in df_movies['tags'].str.split('|').values:\n",
    "    genre_labels = genre_labels.union(set(s))"
   ]
  },
  {
   "cell_type": "code",
   "execution_count": 82,
   "metadata": {},
   "outputs": [
    {
     "data": {
      "text/plain": [
       "[['Drama', 1603],\n",
       " ['Comedy', 1200],\n",
       " ['Action', 503],\n",
       " ['Thriller', 492],\n",
       " ['Romance', 471],\n",
       " ['Horror', 343],\n",
       " ['Adventure', 283],\n",
       " ['Sci-Fi', 276],\n",
       " [\"Children's\", 251],\n",
       " ['Crime', 211],\n",
       " ['War', 143],\n",
       " ['Documentary', 127],\n",
       " ['Musical', 114],\n",
       " ['Mystery', 106],\n",
       " ['Animation', 105],\n",
       " ['Western', 68],\n",
       " ['Fantasy', 68],\n",
       " ['Film-Noir', 44]]"
      ]
     },
     "execution_count": 82,
     "metadata": {},
     "output_type": "execute_result"
    }
   ],
   "source": [
    "keyword_occurences, dum = count_word(df_movies, 'tags', genre_labels)\n",
    "keyword_occurences"
   ]
  },
  {
   "cell_type": "code",
   "execution_count": 84,
   "metadata": {},
   "outputs": [],
   "source": [
    "def random_color_func(word=None, font_size=None, position=None,\n",
    "                      orientation=None, font_path=None, random_state=None):\n",
    "    h = int(360.0 * tone / 255.0)\n",
    "    s = int(100.0 * 255.0 / 255.0)\n",
    "    l = int(100.0 * float(random_state.randint(70, 120)) / 255.0)\n",
    "    return \"hsl({}, {}%, {}%)\".format(h, s, l)\n",
    "\n",
    "\n",
    "#Finally, the result is shown as a wordcloud:\n",
    "words = dict()\n",
    "trunc_occurences = keyword_occurences[0:50]\n",
    "for s in trunc_occurences:\n",
    "    words[s[0]] = s[1]\n",
    "tone = 100 # define the color of the words\n",
    "f, ax = plt.subplots(figsize=(14, 6))\n",
    "# wordcloud = WordCloud(width=550,height=300, background_color='black', \n",
    "#                       max_words=1628,relative_scaling=0.7,\n",
    "#                       color_func = random_color_func,\n",
    "#                       normalize_plurals=False)\n",
    "# wordcloud.generate_from_frequencies(words)\n",
    "# plt.imshow(wordcloud, interpolation=\"bilinear\")\n",
    "# plt.axis('off')\n",
    "# plt.show()"
   ]
  },
  {
   "cell_type": "code",
   "execution_count": 86,
   "metadata": {},
   "outputs": [
    {
     "data": {
      "image/png": "[encoded data removed]",
      "text/plain": [
       "<matplotlib.figure.Figure at 0x16dc0f98>"
      ]
     },
     "metadata": {},
     "output_type": "display_data"
    }
   ],
   "source": [
    "fig = plt.figure(1, figsize=(18,13))\n",
    "ax2 = fig.add_subplot(2,1,2)\n",
    "y_axis = [i[1] for i in trunc_occurences]\n",
    "x_axis = [k for k,i in enumerate(trunc_occurences)]\n",
    "x_label = [i[0] for i in trunc_occurences]\n",
    "plt.xticks(rotation=85, fontsize = 15)\n",
    "plt.yticks(fontsize = 15)\n",
    "plt.xticks(x_axis, x_label)\n",
    "plt.ylabel(\"No. of occurences\", fontsize = 24, labelpad = 0)\n",
    "ax2.bar(x_axis, y_axis, align = 'center', color='r')\n",
    "plt.title(\"Popularity of Genres\",bbox={'facecolor':'k', 'pad':5},color='w',fontsize = 30)\n",
    "plt.show()"
   ]
  },
  {
   "cell_type": "code",
   "execution_count": null,
   "metadata": {},
   "outputs": [],
   "source": []
  },
  {
   "cell_type": "code",
   "execution_count": null,
   "metadata": {},
   "outputs": [],
   "source": []
  },
  {
   "cell_type": "code",
   "execution_count": 12,
   "metadata": {},
   "outputs": [],
   "source": [
    "def printMM(topmovies):\n",
    "    print (topmovies)\n",
    "    print(\"TOP Movies\")\n",
    "    for i,r in topmovies:\n",
    "        print(\"{0:5} - {1:1.2f} - {2}\" .format(i,  r, df_movies.iloc[i].title  ))"
   ]
  },
  {
   "cell_type": "code",
   "execution_count": 15,
   "metadata": {},
   "outputs": [],
   "source": [
    "import pandas as pd"
   ]
  },
  {
   "cell_type": "code",
   "execution_count": 16,
   "metadata": {},
   "outputs": [],
   "source": [
    "def get_users():\n",
    "    col_names = [\"userID\", \"gender\", \"age\", \"occupation\", \"zipcode\"]\n",
    "    df = pd.read_csv(\"./tmp/movielens/ml-1m/users.dat\", sep=\"::\", header=None, names=col_names, engine='python')\n",
    "    rows = len(df)\n",
    "    return df, rows\n"
   ]
  },
  {
   "cell_type": "code",
   "execution_count": 17,
   "metadata": {},
   "outputs": [],
   "source": [
    "df_users,rows = get_users()\n"
   ]
  },
  {
   "cell_type": "code",
   "execution_count": 18,
   "metadata": {},
   "outputs": [
    {
     "name": "stdout",
     "output_type": "stream",
     "text": [
      "6040\n"
     ]
    },
    {
     "data": {
      "text/html": [
       "<div>\n",
       "<style>\n",
       "    .dataframe thead tr:only-child th {\n",
       "        text-align: right;\n",
       "    }\n",
       "\n",
       "    .dataframe thead th {\n",
       "        text-align: left;\n",
       "    }\n",
       "\n",
       "    .dataframe tbody tr th {\n",
       "        vertical-align: top;\n",
       "    }\n",
       "</style>\n",
       "<table border=\"1\" class=\"dataframe\">\n",
       "  <thead>\n",
       "    <tr style=\"text-align: right;\">\n",
       "      <th></th>\n",
       "      <th>userID</th>\n",
       "      <th>age</th>\n",
       "      <th>occupation</th>\n",
       "    </tr>\n",
       "  </thead>\n",
       "  <tbody>\n",
       "    <tr>\n",
       "      <th>count</th>\n",
       "      <td>6040.000000</td>\n",
       "      <td>6040.000000</td>\n",
       "      <td>6040.000000</td>\n",
       "    </tr>\n",
       "    <tr>\n",
       "      <th>mean</th>\n",
       "      <td>3020.500000</td>\n",
       "      <td>30.639238</td>\n",
       "      <td>8.146854</td>\n",
       "    </tr>\n",
       "    <tr>\n",
       "      <th>std</th>\n",
       "      <td>1743.742145</td>\n",
       "      <td>12.895962</td>\n",
       "      <td>6.329511</td>\n",
       "    </tr>\n",
       "    <tr>\n",
       "      <th>min</th>\n",
       "      <td>1.000000</td>\n",
       "      <td>1.000000</td>\n",
       "      <td>0.000000</td>\n",
       "    </tr>\n",
       "    <tr>\n",
       "      <th>25%</th>\n",
       "      <td>1510.750000</td>\n",
       "      <td>25.000000</td>\n",
       "      <td>3.000000</td>\n",
       "    </tr>\n",
       "    <tr>\n",
       "      <th>50%</th>\n",
       "      <td>3020.500000</td>\n",
       "      <td>25.000000</td>\n",
       "      <td>7.000000</td>\n",
       "    </tr>\n",
       "    <tr>\n",
       "      <th>75%</th>\n",
       "      <td>4530.250000</td>\n",
       "      <td>35.000000</td>\n",
       "      <td>14.000000</td>\n",
       "    </tr>\n",
       "    <tr>\n",
       "      <th>max</th>\n",
       "      <td>6040.000000</td>\n",
       "      <td>56.000000</td>\n",
       "      <td>20.000000</td>\n",
       "    </tr>\n",
       "  </tbody>\n",
       "</table>\n",
       "</div>"
      ],
      "text/plain": [
       "            userID          age   occupation\n",
       "count  6040.000000  6040.000000  6040.000000\n",
       "mean   3020.500000    30.639238     8.146854\n",
       "std    1743.742145    12.895962     6.329511\n",
       "min       1.000000     1.000000     0.000000\n",
       "25%    1510.750000    25.000000     3.000000\n",
       "50%    3020.500000    25.000000     7.000000\n",
       "75%    4530.250000    35.000000    14.000000\n",
       "max    6040.000000    56.000000    20.000000"
      ]
     },
     "execution_count": 18,
     "metadata": {},
     "output_type": "execute_result"
    }
   ],
   "source": [
    "print(len(df_users))\n",
    "df_users.describe()"
   ]
  },
  {
   "cell_type": "code",
   "execution_count": 19,
   "metadata": {},
   "outputs": [
    {
     "data": {
      "text/html": [
       "<div>\n",
       "<style>\n",
       "    .dataframe thead tr:only-child th {\n",
       "        text-align: right;\n",
       "    }\n",
       "\n",
       "    .dataframe thead th {\n",
       "        text-align: left;\n",
       "    }\n",
       "\n",
       "    .dataframe tbody tr th {\n",
       "        vertical-align: top;\n",
       "    }\n",
       "</style>\n",
       "<table border=\"1\" class=\"dataframe\">\n",
       "  <thead>\n",
       "    <tr style=\"text-align: right;\">\n",
       "      <th></th>\n",
       "      <th>userID</th>\n",
       "      <th>gender</th>\n",
       "      <th>age</th>\n",
       "      <th>occupation</th>\n",
       "      <th>zipcode</th>\n",
       "    </tr>\n",
       "  </thead>\n",
       "  <tbody>\n",
       "    <tr>\n",
       "      <th>0</th>\n",
       "      <td>1</td>\n",
       "      <td>F</td>\n",
       "      <td>1</td>\n",
       "      <td>10</td>\n",
       "      <td>48067</td>\n",
       "    </tr>\n",
       "    <tr>\n",
       "      <th>1</th>\n",
       "      <td>2</td>\n",
       "      <td>M</td>\n",
       "      <td>56</td>\n",
       "      <td>16</td>\n",
       "      <td>70072</td>\n",
       "    </tr>\n",
       "    <tr>\n",
       "      <th>2</th>\n",
       "      <td>3</td>\n",
       "      <td>M</td>\n",
       "      <td>25</td>\n",
       "      <td>15</td>\n",
       "      <td>55117</td>\n",
       "    </tr>\n",
       "    <tr>\n",
       "      <th>3</th>\n",
       "      <td>4</td>\n",
       "      <td>M</td>\n",
       "      <td>45</td>\n",
       "      <td>7</td>\n",
       "      <td>02460</td>\n",
       "    </tr>\n",
       "    <tr>\n",
       "      <th>4</th>\n",
       "      <td>5</td>\n",
       "      <td>M</td>\n",
       "      <td>25</td>\n",
       "      <td>20</td>\n",
       "      <td>55455</td>\n",
       "    </tr>\n",
       "    <tr>\n",
       "      <th>5</th>\n",
       "      <td>6</td>\n",
       "      <td>F</td>\n",
       "      <td>50</td>\n",
       "      <td>9</td>\n",
       "      <td>55117</td>\n",
       "    </tr>\n",
       "    <tr>\n",
       "      <th>6</th>\n",
       "      <td>7</td>\n",
       "      <td>M</td>\n",
       "      <td>35</td>\n",
       "      <td>1</td>\n",
       "      <td>06810</td>\n",
       "    </tr>\n",
       "    <tr>\n",
       "      <th>7</th>\n",
       "      <td>8</td>\n",
       "      <td>M</td>\n",
       "      <td>25</td>\n",
       "      <td>12</td>\n",
       "      <td>11413</td>\n",
       "    </tr>\n",
       "    <tr>\n",
       "      <th>8</th>\n",
       "      <td>9</td>\n",
       "      <td>M</td>\n",
       "      <td>25</td>\n",
       "      <td>17</td>\n",
       "      <td>61614</td>\n",
       "    </tr>\n",
       "    <tr>\n",
       "      <th>9</th>\n",
       "      <td>10</td>\n",
       "      <td>F</td>\n",
       "      <td>35</td>\n",
       "      <td>1</td>\n",
       "      <td>95370</td>\n",
       "    </tr>\n",
       "  </tbody>\n",
       "</table>\n",
       "</div>"
      ],
      "text/plain": [
       "   userID gender  age  occupation zipcode\n",
       "0       1      F    1          10   48067\n",
       "1       2      M   56          16   70072\n",
       "2       3      M   25          15   55117\n",
       "3       4      M   45           7   02460\n",
       "4       5      M   25          20   55455\n",
       "5       6      F   50           9   55117\n",
       "6       7      M   35           1   06810\n",
       "7       8      M   25          12   11413\n",
       "8       9      M   25          17   61614\n",
       "9      10      F   35           1   95370"
      ]
     },
     "execution_count": 19,
     "metadata": {},
     "output_type": "execute_result"
    }
   ],
   "source": [
    "df_users.iloc[0:10]"
   ]
  },
  {
   "cell_type": "markdown",
   "metadata": {},
   "source": [
    "## FIND similar users \n"
   ]
  },
  {
   "cell_type": "code",
   "execution_count": 20,
   "metadata": {},
   "outputs": [
    {
     "name": "stdout",
     "output_type": "stream",
     "text": [
      "      userID gender  age  occupation zipcode\n",
      "1814    1815      M    1           1   30707\n",
      "2059    2060      M    1           1   48304\n",
      "2852    2853      M    1           1  444555\n"
     ]
    }
   ],
   "source": [
    "def get_users_where(age=\"*\", gender=\"*\", occupation=\"*\", zipcode=\"*\"): \n",
    "    us = df_users\n",
    "    if age != \"*\":\n",
    "        us = us[us[\"age\"]==age]\n",
    "    if gender != \"*\":\n",
    "        us = us[us[\"gender\"]==gender]\n",
    "    if occupation != \"*\":\n",
    "        us = us[us[\"occupation\"]==occupation]\n",
    "    if zipcode != \"*\":\n",
    "        us = us[us[\"zipcode\"]==zipcode]    \n",
    "    return us # return the data \n",
    "#     return len(us) return the length of each selection\n",
    "\n",
    "# print(get_users_where(age=1) )\n",
    "# print(get_users_where(age=1, gender =\"M\") )\n",
    "print(get_users_where(age=1, gender =\"M\", occupation = 1 ) )\n",
    "# print(get_users_where(age=1, gender =\"M\", occupation = 1, zipcode = 48067 ) )\n"
   ]
  },
  {
   "cell_type": "code",
   "execution_count": null,
   "metadata": {
    "collapsed": true
   },
   "outputs": [],
   "source": []
  },
  {
   "cell_type": "code",
   "execution_count": null,
   "metadata": {
    "collapsed": true
   },
   "outputs": [],
   "source": []
  },
  {
   "cell_type": "markdown",
   "metadata": {},
   "source": [
    "# Compare results - Show statistics"
   ]
  },
  {
   "cell_type": "code",
   "execution_count": 22,
   "metadata": {},
   "outputs": [
    {
     "name": "stdout",
     "output_type": "stream",
     "text": [
      "\n",
      "Top Movies ------------------------------------------------------------\n",
      "1815\n",
      "[(3154, -1.2711122), (542, -1.2713907), (1784, -1.2718444), (2258, -1.2719319), (1000, -1.2721136), (3471, -1.2722907), (2529, -1.2724241), (3009, -1.2725339), (1840, -1.2727556), (1460, -1.2728013)]\n",
      "TOP Movies\n",
      " 3154 - -1.27 - Zed & Two Noughts, A (1985)\n",
      "  542 - -1.27 - Super Mario Bros. (1993)\n",
      " 1784 - -1.27 - Alan Smithee Film: Burn Hollywood Burn, An (1997)\n",
      " 2258 - -1.27 - Tales from the Darkside: The Movie (1990)\n",
      " 1000 - -1.27 - Parent Trap, The (1961)\n",
      " 3471 - -1.27 - Passion of Mind (1999)\n",
      " 2529 - -1.27 - Pushing Tin (1999)\n",
      " 3009 - -1.27 - Liberty Heights (1999)\n",
      " 1840 - -1.27 - X-Files: Fight the Future, The (1998)\n",
      " 1460 - -1.27 - B*A*P*S (1997)\n",
      "2060\n",
      "[(3070, -1.3068042), (3471, -1.3079368), (1512, -1.3079507), (3552, -1.3081417), (2711, -1.3082843), (408, -1.3083031), (734, -1.308417), (542, -1.3084476), (847, -1.3085543), (472, -1.3087789)]\n",
      "TOP Movies\n",
      " 3070 - -1.31 - Tarzan the Fearless (1933)\n",
      " 3471 - -1.31 - Passion of Mind (1999)\n",
      " 1512 - -1.31 - Buddy (1997)\n",
      " 3552 - -1.31 - Possession (1981)\n",
      " 2711 - -1.31 - Raven, The (1963)\n",
      "  408 - -1.31 - Age of Innocence, The (1993)\n",
      "  734 - -1.31 - Brothers in Trouble (1995)\n",
      "  542 - -1.31 - Super Mario Bros. (1993)\n",
      "  847 - -1.31 - Godfather, The (1972)\n",
      "  472 - -1.31 - Inkwell, The (1994)\n",
      "2853\n",
      "[(2760, -1.3031322), (2421, -1.303287), (664, -1.3033577), (1385, -1.3037655), (3722, -1.3037702), (2824, -1.3038847), (3672, -1.3039185), (2062, -1.3039674), (1328, -1.3041812), (1156, -1.3042867)]\n",
      "TOP Movies\n",
      " 2760 - -1.30 - Muse, The (1999)\n",
      " 2421 - -1.30 - Payback (1999)\n",
      "  664 - -1.30 - World of Apu, The (Apur Sansar) (1959)\n",
      " 1385 - -1.30 - Last of the Mohicans, The (1992)\n",
      " 3722 - -1.30 - Footloose (1984)\n",
      " 2824 - -1.30 - Plunkett & MaCleane (1999)\n",
      " 3672 - -1.30 - Badlands (1973)\n",
      " 2062 - -1.30 - Autumn Sonata (Höstsonaten ) (1978)\n",
      " 1328 - -1.30 - Nosferatu a Venezia (1986)\n",
      " 1156 - -1.30 - Cinema Paradiso (1988)\n"
     ]
    }
   ],
   "source": [
    "init_op = tf.global_variables_initializer()\n",
    "with tf.Session() as sess:\n",
    "    sess.run(init_op)\n",
    "    #saver.restore(sess, \"./tmp/\")\n",
    "    movies=list(range(len(df_movies)))\n",
    "\n",
    "    user_IDEN = get_users_where(age=1, gender =\"M\", occupation = 1 )\n",
    "    print (\"\\nTop Movies ------------------------------------------------------------\")\n",
    "\n",
    "    for i in range(len(user_IDEN)):\n",
    "        userID = user_IDEN.iloc[i][\"userID\"]\n",
    "        print(userID)\n",
    "        users=[userID]\n",
    "        pred_batch = sess.run(infer, feed_dict={user_batch: users,item_batch: movies})\n",
    "        moviesrecomm=list(zip(movies,pred_batch))\n",
    "        smovies=sorted (moviesrecomm,key=lambda x:x[1],reverse=True)\n",
    "        topmovies= smovies[0:10]\n",
    "        printMM(topmovies)"
   ]
  },
  {
   "cell_type": "markdown",
   "metadata": {
    "collapsed": true
   },
   "source": [
    "# movies watched by users... "
   ]
  },
  {
   "cell_type": "code",
   "execution_count": 34,
   "metadata": {},
   "outputs": [
    {
     "name": "stdout",
     "output_type": "stream",
     "text": [
      "id: 1, G: F, age Under 18, oc: 10, zc: 48067\n"
     ]
    },
    {
     "data": {
      "text/plain": [
       "1"
      ]
     },
     "execution_count": 34,
     "metadata": {},
     "output_type": "execute_result"
    }
   ],
   "source": [
    "def getAg(age):\n",
    "    if age == 1:    return \"Under 18\"\n",
    "    elif age == 18: return \"18 - 24 \"\n",
    "    elif age == 25: return \"25 - 34 \"\n",
    "    elif age == 35: return \"35 - 44 \"\n",
    "    elif age == 45: return \"45 - 49 \"\n",
    "    elif age == 50: return \"50 - 55 \"\n",
    "    elif age == 56: return \"Above 56\"\n",
    "\n",
    "def getOc(occ):\n",
    "    if occ == 0:    return \"other\"\n",
    "    elif occ == 1:  return \"academic/educator\"\n",
    "    elif occ == 2:  return \"artist\"\n",
    "    elif occ == 3:  return \"clerical/admin\"\n",
    "    elif occ == 4:  return \"college/grad student\"\n",
    "    elif occ == 5:  return \"customer service\"\n",
    "    elif occ == 6:  return \"doctor/health care\"\n",
    "    elif occ == 7:  return \"executive/managerial\"\n",
    "    elif occ == 8:  return \"farmer\"\n",
    "    elif occ == 9:  return \"homemaker\"\n",
    "    elif occ == 10: return \"K-12 student\"\n",
    "    elif occ == 11: return \"lawyer\"\n",
    "    elif occ == 12: \"programmer\"\n",
    "    elif occ == 13: \"retired\"\n",
    "    elif occ == 14: \"sales/marketing\"\n",
    "    elif occ == 15: \"scientist\"\n",
    "    elif occ == 16: \"self-employed\"\n",
    "    elif occ == 17: \"technician/engineer\"\n",
    "    elif occ == 18: \"tradesman/craftsman\"\n",
    "    elif occ == 19: \"unemployed\"\n",
    "    elif occ == 20: \"writer\"\n",
    "        \n",
    "userID = 1.\n",
    "user = df_users[df_users[\"userID\"]==userID]\n",
    "\n",
    "print(\"id: {}, G: {}, age {}, oc: {}, zc: {}\" \n",
    "      .format(user[\"userID\"][0], user[\"gender\"][0], getAg(user[\"age\"][0]), user[\"occupation\"][0], user[\"zipcode\"][0] ))\n",
    "# for i,r in topmovies:\n",
    "#     print(\"{0:5} - {1:1.2f} - {2}\" .format(i,  r, df_movies.iloc[i].title  ))\n"
   ]
  },
  {
   "cell_type": "code",
   "execution_count": null,
   "metadata": {
    "collapsed": true
   },
   "outputs": [],
   "source": []
  },
  {
   "cell_type": "code",
   "execution_count": null,
   "metadata": {
    "collapsed": true
   },
   "outputs": [],
   "source": []
  },
  {
   "cell_type": "code",
   "execution_count": null,
   "metadata": {
    "collapsed": true
   },
   "outputs": [],
   "source": []
  }
 ],
 "metadata": {
  "kernelspec": {
   "display_name": "Python 3",
   "language": "python",
   "name": "python3"
  },
  "language_info": {
   "codemirror_mode": {
    "name": "ipython",
    "version": 3
   },
   "file_extension": ".py",
   "mimetype": "text/x-python",
   "name": "python",
   "nbconvert_exporter": "python",
   "pygments_lexer": "ipython3",
   "version": "3.5.2"
  }
 },
 "nbformat": 4,
 "nbformat_minor": 2
}
